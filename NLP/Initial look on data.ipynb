{
 "cells": [
  {
   "cell_type": "markdown",
   "metadata": {},
   "source": [
    "#### Task Details\n",
    "\n",
    "What do we know about vaccines and therapeutics? <br> \n",
    "What has been published concerning research and development and evaluation efforts of vaccines and therapeutics?"
   ]
  },
  {
   "cell_type": "code",
   "execution_count": 1,
   "metadata": {},
   "outputs": [],
   "source": [
    "import numpy as np\n",
    "import pandas as pd\n",
    "# Visualization\n",
    "import matplotlib.pyplot as plt\n",
    "import seaborn as sns\n",
    "# NLP\n",
    "import spacy\n",
    "import scispacy\n",
    "from scispacy.umls_linking import UmlsEntityLinker\n",
    "from scispacy.abbreviation import AbbreviationDetector \n",
    "from negspacy.negation import Negex"
   ]
  },
  {
   "cell_type": "code",
   "execution_count": 2,
   "metadata": {},
   "outputs": [],
   "source": [
    "meta_data = pd.read_csv('../data/raw/all_sources_metadata_2020-03-13.csv')"
   ]
  },
  {
   "cell_type": "code",
   "execution_count": 3,
   "metadata": {},
   "outputs": [
    {
     "data": {
      "text/html": [
       "<div>\n",
       "<style scoped>\n",
       "    .dataframe tbody tr th:only-of-type {\n",
       "        vertical-align: middle;\n",
       "    }\n",
       "\n",
       "    .dataframe tbody tr th {\n",
       "        vertical-align: top;\n",
       "    }\n",
       "\n",
       "    .dataframe thead th {\n",
       "        text-align: right;\n",
       "    }\n",
       "</style>\n",
       "<table border=\"1\" class=\"dataframe\">\n",
       "  <thead>\n",
       "    <tr style=\"text-align: right;\">\n",
       "      <th></th>\n",
       "      <th>sha</th>\n",
       "      <th>source_x</th>\n",
       "      <th>title</th>\n",
       "      <th>doi</th>\n",
       "      <th>pmcid</th>\n",
       "      <th>pubmed_id</th>\n",
       "      <th>license</th>\n",
       "      <th>abstract</th>\n",
       "      <th>publish_time</th>\n",
       "      <th>authors</th>\n",
       "      <th>journal</th>\n",
       "      <th>Microsoft Academic Paper ID</th>\n",
       "      <th>WHO #Covidence</th>\n",
       "      <th>has_full_text</th>\n",
       "    </tr>\n",
       "  </thead>\n",
       "  <tbody>\n",
       "    <tr>\n",
       "      <th>0</th>\n",
       "      <td>c630ebcdf30652f0422c3ec12a00b50241dc9bd9</td>\n",
       "      <td>CZI</td>\n",
       "      <td>Angiotensin-converting enzyme 2 (ACE2) as a SA...</td>\n",
       "      <td>10.1007/s00134-020-05985-9</td>\n",
       "      <td>NaN</td>\n",
       "      <td>32125455.0</td>\n",
       "      <td>cc-by-nc</td>\n",
       "      <td>NaN</td>\n",
       "      <td>2020</td>\n",
       "      <td>Zhang, Haibo; Penninger, Josef M.; Li, Yimin; ...</td>\n",
       "      <td>Intensive Care Med</td>\n",
       "      <td>2.002765e+09</td>\n",
       "      <td>#3252</td>\n",
       "      <td>True</td>\n",
       "    </tr>\n",
       "    <tr>\n",
       "      <th>1</th>\n",
       "      <td>53eccda7977a31e3d0f565c884da036b1e85438e</td>\n",
       "      <td>CZI</td>\n",
       "      <td>Comparative genetic analysis of the novel coro...</td>\n",
       "      <td>10.1038/s41421-020-0147-1</td>\n",
       "      <td>NaN</td>\n",
       "      <td>NaN</td>\n",
       "      <td>cc-by</td>\n",
       "      <td>NaN</td>\n",
       "      <td>2020</td>\n",
       "      <td>Cao, Yanan; Li, Lin; Feng, Zhimin; Wan, Shengq...</td>\n",
       "      <td>Cell Discovery</td>\n",
       "      <td>3.003431e+09</td>\n",
       "      <td>#1861</td>\n",
       "      <td>True</td>\n",
       "    </tr>\n",
       "    <tr>\n",
       "      <th>2</th>\n",
       "      <td>210a892deb1c61577f6fba58505fd65356ce6636</td>\n",
       "      <td>CZI</td>\n",
       "      <td>Incubation Period and Other Epidemiological Ch...</td>\n",
       "      <td>10.3390/jcm9020538</td>\n",
       "      <td>NaN</td>\n",
       "      <td>NaN</td>\n",
       "      <td>cc-by</td>\n",
       "      <td>The geographic spread of 2019 novel coronaviru...</td>\n",
       "      <td>2020</td>\n",
       "      <td>Linton, M. Natalie; Kobayashi, Tetsuro; Yang, ...</td>\n",
       "      <td>Journal of Clinical Medicine</td>\n",
       "      <td>3.006065e+09</td>\n",
       "      <td>#1043</td>\n",
       "      <td>True</td>\n",
       "    </tr>\n",
       "    <tr>\n",
       "      <th>3</th>\n",
       "      <td>e3b40cc8e0e137c416b4a2273a4dca94ae8178cc</td>\n",
       "      <td>CZI</td>\n",
       "      <td>Characteristics of and Public Health Responses...</td>\n",
       "      <td>10.3390/jcm9020575</td>\n",
       "      <td>NaN</td>\n",
       "      <td>32093211.0</td>\n",
       "      <td>cc-by</td>\n",
       "      <td>In December 2019, cases of unidentified pneumo...</td>\n",
       "      <td>2020</td>\n",
       "      <td>Deng, Sheng-Qun; Peng, Hong-Juan</td>\n",
       "      <td>J Clin Med</td>\n",
       "      <td>1.776631e+08</td>\n",
       "      <td>#1999</td>\n",
       "      <td>True</td>\n",
       "    </tr>\n",
       "    <tr>\n",
       "      <th>4</th>\n",
       "      <td>92c2c9839304b4f2bc1276d41b1aa885d8b364fd</td>\n",
       "      <td>CZI</td>\n",
       "      <td>Imaging changes in severe COVID-19 pneumonia</td>\n",
       "      <td>10.1007/s00134-020-05976-w</td>\n",
       "      <td>NaN</td>\n",
       "      <td>32125453.0</td>\n",
       "      <td>cc-by-nc</td>\n",
       "      <td>NaN</td>\n",
       "      <td>2020</td>\n",
       "      <td>Zhang, Wei</td>\n",
       "      <td>Intensive Care Med</td>\n",
       "      <td>3.006643e+09</td>\n",
       "      <td>#3242</td>\n",
       "      <td>False</td>\n",
       "    </tr>\n",
       "  </tbody>\n",
       "</table>\n",
       "</div>"
      ],
      "text/plain": [
       "                                        sha source_x  \\\n",
       "0  c630ebcdf30652f0422c3ec12a00b50241dc9bd9      CZI   \n",
       "1  53eccda7977a31e3d0f565c884da036b1e85438e      CZI   \n",
       "2  210a892deb1c61577f6fba58505fd65356ce6636      CZI   \n",
       "3  e3b40cc8e0e137c416b4a2273a4dca94ae8178cc      CZI   \n",
       "4  92c2c9839304b4f2bc1276d41b1aa885d8b364fd      CZI   \n",
       "\n",
       "                                               title  \\\n",
       "0  Angiotensin-converting enzyme 2 (ACE2) as a SA...   \n",
       "1  Comparative genetic analysis of the novel coro...   \n",
       "2  Incubation Period and Other Epidemiological Ch...   \n",
       "3  Characteristics of and Public Health Responses...   \n",
       "4       Imaging changes in severe COVID-19 pneumonia   \n",
       "\n",
       "                          doi pmcid   pubmed_id   license  \\\n",
       "0  10.1007/s00134-020-05985-9   NaN  32125455.0  cc-by-nc   \n",
       "1   10.1038/s41421-020-0147-1   NaN         NaN     cc-by   \n",
       "2          10.3390/jcm9020538   NaN         NaN     cc-by   \n",
       "3          10.3390/jcm9020575   NaN  32093211.0     cc-by   \n",
       "4  10.1007/s00134-020-05976-w   NaN  32125453.0  cc-by-nc   \n",
       "\n",
       "                                            abstract publish_time  \\\n",
       "0                                                NaN         2020   \n",
       "1                                                NaN         2020   \n",
       "2  The geographic spread of 2019 novel coronaviru...         2020   \n",
       "3  In December 2019, cases of unidentified pneumo...         2020   \n",
       "4                                                NaN         2020   \n",
       "\n",
       "                                             authors  \\\n",
       "0  Zhang, Haibo; Penninger, Josef M.; Li, Yimin; ...   \n",
       "1  Cao, Yanan; Li, Lin; Feng, Zhimin; Wan, Shengq...   \n",
       "2  Linton, M. Natalie; Kobayashi, Tetsuro; Yang, ...   \n",
       "3                   Deng, Sheng-Qun; Peng, Hong-Juan   \n",
       "4                                         Zhang, Wei   \n",
       "\n",
       "                        journal  Microsoft Academic Paper ID WHO #Covidence  \\\n",
       "0            Intensive Care Med                 2.002765e+09          #3252   \n",
       "1                Cell Discovery                 3.003431e+09          #1861   \n",
       "2  Journal of Clinical Medicine                 3.006065e+09          #1043   \n",
       "3                    J Clin Med                 1.776631e+08          #1999   \n",
       "4            Intensive Care Med                 3.006643e+09          #3242   \n",
       "\n",
       "  has_full_text  \n",
       "0          True  \n",
       "1          True  \n",
       "2          True  \n",
       "3          True  \n",
       "4         False  "
      ]
     },
     "execution_count": 3,
     "metadata": {},
     "output_type": "execute_result"
    }
   ],
   "source": [
    "meta_data.head()"
   ]
  },
  {
   "cell_type": "markdown",
   "metadata": {},
   "source": [
    "Look at abstracts and find the ones which have lemmas of \"vaccine\" or \"therapy\" in them.<br>\n",
    "Assumptions: these words would appear in the abstract if our topic is being discussed in the paper"
   ]
  },
  {
   "cell_type": "markdown",
   "metadata": {},
   "source": [
    "Preprocessing: Replace all medical abbraviations with their official full form (e.g. COVID-19 = corona virus 2019). Lemmatize?\n",
    "Processing: Find all papers which mention \"vaccine\" or \"therapy\". From this subgroup, visualize clusters of mentioned compounds or even a cluster which mentions that \"no drug has been found\""
   ]
  },
  {
   "cell_type": "code",
   "execution_count": 4,
   "metadata": {},
   "outputs": [
    {
     "data": {
      "text/plain": [
       "'The initial cluster of severe pneumonia cases that triggered the 2019-nCoV epidemic was identified in Wuhan, China in December 2019. While early cases of the disease were linked to a wet market, human-to-human transmission has driven the rapid spread of the virus throughout China. The Chinese government has implemented containment strategies of city-wide lockdowns, screening at airports and train stations, and isolation of suspected patients; however, the cumulative case count keeps growing every day. The ongoing outbreak presents a challenge for modelers, as limited data are available on the early growth trajectory, and the epidemiological characteristics of the novel coronavirus are yet to be fully elucidated. We use phenomenological models that have been validated during previous outbreaks to generate and assess short-term forecasts of the cumulative number of confirmed reported cases in Hubei province, the epicenter of the epidemic, and for the overall trajectory in China, excluding the province of Hubei. We collect daily reported cumulative case data for the 2019-nCoV outbreak for each Chinese province from the National Health Commission of China. Here, we provide 5, 10, and 15 day forecasts for five consecutive days, February 5th through February 9th, with quantified uncertainty based on a generalized logistic growth model, the Richards growth model, and a sub-epidemic wave model. Our most recent forecasts reported here based on data up until February 9, 2020, largely agree across the three models presented and suggest an average range of 7,409 – 7,496 additional cases in Hubei and 1,128 – 1,929 additional cases in other provinces within the next five days. Models also predict an average total cumulative case count between 37,415 – 38,028 in Hubei and 11,588 – 13,499 in other provinces by February 24, 2020. Mean estimates and uncertainty bounds for both Hubei and other provinces have remained relatively stable in the last three reporting dates (February 7th – 9th). We also observe that each of the models predicts that the epidemic has reached saturation in both Hubei and other provinces. Our findings suggest that the containment strategies implemented in China are successfully reducing transmission and that the epidemic growth has slowed in recent days.'"
      ]
     },
     "execution_count": 4,
     "metadata": {},
     "output_type": "execute_result"
    }
   ],
   "source": [
    "meta_data.abstract[6]"
   ]
  },
  {
   "cell_type": "code",
   "execution_count": 5,
   "metadata": {},
   "outputs": [
    {
     "data": {
      "text/plain": [
       "(29500, 14)"
      ]
     },
     "execution_count": 5,
     "metadata": {},
     "output_type": "execute_result"
    }
   ],
   "source": [
    "meta_data.shape"
   ]
  },
  {
   "cell_type": "code",
   "execution_count": 6,
   "metadata": {},
   "outputs": [],
   "source": [
    "abstracts = meta_data[~meta_data.abstract.isna()]"
   ]
  },
  {
   "cell_type": "code",
   "execution_count": 7,
   "metadata": {},
   "outputs": [
    {
     "data": {
      "text/plain": [
       "(26553, 14)"
      ]
     },
     "execution_count": 7,
     "metadata": {},
     "output_type": "execute_result"
    }
   ],
   "source": [
    "abstracts.shape"
   ]
  },
  {
   "cell_type": "code",
   "execution_count": 8,
   "metadata": {},
   "outputs": [],
   "source": [
    "nlp = spacy.load(\"en_core_sci_sm\")"
   ]
  },
  {
   "cell_type": "code",
   "execution_count": 9,
   "metadata": {},
   "outputs": [],
   "source": [
    "doc = nlp(abstracts.iloc[1,7])"
   ]
  },
  {
   "cell_type": "code",
   "execution_count": 10,
   "metadata": {},
   "outputs": [
    {
     "name": "stdout",
     "output_type": "stream",
     "text": [
      "As of 18 February 2020, the number of confirmed cases had reached 75,199 with 2009 fatalities.\n"
     ]
    }
   ],
   "source": [
    "print(list(doc.sents)[3])"
   ]
  },
  {
   "cell_type": "code",
   "execution_count": 11,
   "metadata": {},
   "outputs": [
    {
     "name": "stdout",
     "output_type": "stream",
     "text": [
      "(cases, unidentified pneumonia, history, exposure, Huanan Seafood Market, Wuhan, Hubei Province, coronavirus, SARS-CoV-2, disease, Human-to-human transmission, disease, COVID-19, World Health Organization, WHO, country, world, cases, fatalities, COVID-19, case-fatality rate, cases, Severe Acute Respiratory Syndrome, SARS, Middle East Respiratory Syndrome, MERS, symptom, fatality, released, official reports, fever, cough, short of breath, chest tightness/pain, comorbidities, fatality, cases, hypertension, diabetes, coronary heart disease, cerebral infarction, chronic bronchitis, virus, pathogenesis, disease, therapeutic drug, Chinese Government, level-1, public health, disease, speed, development, vaccines, drugs, treatment, defeat, COVID-19)\n"
     ]
    }
   ],
   "source": [
    "print(doc.ents)"
   ]
  },
  {
   "cell_type": "code",
   "execution_count": 42,
   "metadata": {},
   "outputs": [
    {
     "data": {
      "text/plain": [
       "'a novel coronavirus ( 2019-ncov ) originate in Wuhan , China present a potential respiratory viral pandemic to the world population . current effort be focus on containment and quarantine of infected individual . ultimately , the outbreak could be control with a protective vaccine to prevent 2019-ncov infection . while vaccine research should be pursue intensely , there exist today no therapy to treat 2019-ncov upon infection , despite an urgent need to find option to help these patient and preclude potential death . herein , I review the potential option to treat 2019-ncov in patient , with an emphasis on the necessity for speed and timeliness in develop new and effective therapy in this outbreak . I consider the option of drug repurposing , develop neutralize monoclonal antibody therapy , and an oligonucleotide strategy target the viral rna genome , emphasize the promise and pitfall of these approach . finally , I advocate for the fast strategy to develop a treatment now , which could be resistant to any mutation the virus may have in the future . the proposal be a biologic that block 2019-ncov entry use a soluble version of the viral receptor , angiotensin-converting enzyme 2 ( ace2 ) , fuse to an immunoglobulin fc domain ( ace2-fc ) , provide a neutralize antibody with maximal breath to avoid any viral escape , while also help to recruit the immune system to build last immunity . the ace2-fc therapy would also supplement decrease ace2 level in the lung during infection , thereby directly treat acute respiratory distress pathophysiology as a third mechanism of action . the sequence of the ace2-fc protein be provide to investigator , allow its possible use in recombinant protein expression system to start produce drug today to treat patient under compassionate use , while formal clinical trial be later undertake . such a treatment could help infected patient before a protective vaccine be develop and widely available in the come month to year(s ) .'"
      ]
     },
     "execution_count": 42,
     "metadata": {},
     "output_type": "execute_result"
    }
   ],
   "source": [
    "out_sent = [w.lemma_ if w.lemma_ !='-PRON-' else w.text for w in doc]\n",
    "out_sent = ' '.join(out_sent) \n",
    "out_sent"
   ]
  },
  {
   "cell_type": "code",
   "execution_count": null,
   "metadata": {},
   "outputs": [],
   "source": [
    "# abstracts['abstract_preprocessed']"
   ]
  },
  {
   "cell_type": "code",
   "execution_count": 20,
   "metadata": {},
   "outputs": [
    {
     "name": "stderr",
     "output_type": "stream",
     "text": [
      "/Users/nmoser/anaconda/envs/NLP_COVID_19/lib/python3.6/site-packages/ipykernel_launcher.py:1: SettingWithCopyWarning: \n",
      "A value is trying to be set on a copy of a slice from a DataFrame.\n",
      "Try using .loc[row_indexer,col_indexer] = value instead\n",
      "\n",
      "See the caveats in the documentation: https://pandas.pydata.org/pandas-docs/stable/user_guide/indexing.html#returning-a-view-versus-a-copy\n",
      "  \"\"\"Entry point for launching an IPython kernel.\n"
     ]
    }
   ],
   "source": [
    "abstracts['Entities'] = abstracts.loc[:1000,'abstract'].apply(lambda x: nlp(x).ents)"
   ]
  },
  {
   "cell_type": "code",
   "execution_count": 21,
   "metadata": {},
   "outputs": [
    {
     "data": {
      "text/html": [
       "<div>\n",
       "<style scoped>\n",
       "    .dataframe tbody tr th:only-of-type {\n",
       "        vertical-align: middle;\n",
       "    }\n",
       "\n",
       "    .dataframe tbody tr th {\n",
       "        vertical-align: top;\n",
       "    }\n",
       "\n",
       "    .dataframe thead th {\n",
       "        text-align: right;\n",
       "    }\n",
       "</style>\n",
       "<table border=\"1\" class=\"dataframe\">\n",
       "  <thead>\n",
       "    <tr style=\"text-align: right;\">\n",
       "      <th></th>\n",
       "      <th>sha</th>\n",
       "      <th>source_x</th>\n",
       "      <th>title</th>\n",
       "      <th>doi</th>\n",
       "      <th>pmcid</th>\n",
       "      <th>pubmed_id</th>\n",
       "      <th>license</th>\n",
       "      <th>abstract</th>\n",
       "      <th>publish_time</th>\n",
       "      <th>authors</th>\n",
       "      <th>journal</th>\n",
       "      <th>Microsoft Academic Paper ID</th>\n",
       "      <th>WHO #Covidence</th>\n",
       "      <th>has_full_text</th>\n",
       "      <th>Entities</th>\n",
       "    </tr>\n",
       "  </thead>\n",
       "  <tbody>\n",
       "    <tr>\n",
       "      <th>2</th>\n",
       "      <td>210a892deb1c61577f6fba58505fd65356ce6636</td>\n",
       "      <td>CZI</td>\n",
       "      <td>Incubation Period and Other Epidemiological Ch...</td>\n",
       "      <td>10.3390/jcm9020538</td>\n",
       "      <td>NaN</td>\n",
       "      <td>NaN</td>\n",
       "      <td>cc-by</td>\n",
       "      <td>The geographic spread of 2019 novel coronaviru...</td>\n",
       "      <td>2020</td>\n",
       "      <td>Linton, M. Natalie; Kobayashi, Tetsuro; Yang, ...</td>\n",
       "      <td>Journal of Clinical Medicine</td>\n",
       "      <td>3.006065e+09</td>\n",
       "      <td>#1043</td>\n",
       "      <td>True</td>\n",
       "      <td>((geographic), (COVID-19), (infections), (epic...</td>\n",
       "    </tr>\n",
       "    <tr>\n",
       "      <th>3</th>\n",
       "      <td>e3b40cc8e0e137c416b4a2273a4dca94ae8178cc</td>\n",
       "      <td>CZI</td>\n",
       "      <td>Characteristics of and Public Health Responses...</td>\n",
       "      <td>10.3390/jcm9020575</td>\n",
       "      <td>NaN</td>\n",
       "      <td>32093211.0</td>\n",
       "      <td>cc-by</td>\n",
       "      <td>In December 2019, cases of unidentified pneumo...</td>\n",
       "      <td>2020</td>\n",
       "      <td>Deng, Sheng-Qun; Peng, Hong-Juan</td>\n",
       "      <td>J Clin Med</td>\n",
       "      <td>1.776631e+08</td>\n",
       "      <td>#1999</td>\n",
       "      <td>True</td>\n",
       "      <td>((cases), (unidentified, pneumonia), (history)...</td>\n",
       "    </tr>\n",
       "    <tr>\n",
       "      <th>5</th>\n",
       "      <td>0df0d5270a9399cf4e23c0cdd877a80616a9725e</td>\n",
       "      <td>CZI</td>\n",
       "      <td>An updated estimation of the risk of transmiss...</td>\n",
       "      <td>10.1016/j.idm.2020.02.001</td>\n",
       "      <td>NaN</td>\n",
       "      <td>NaN</td>\n",
       "      <td>cc-by-nc-nd</td>\n",
       "      <td>The basic reproduction number of an infectious...</td>\n",
       "      <td>2020</td>\n",
       "      <td>Tang, Biao; Bragazzi, Nicola Luigi; Li, Qian; ...</td>\n",
       "      <td>Infectious Disease Modelling</td>\n",
       "      <td>3.006029e+09</td>\n",
       "      <td>#729</td>\n",
       "      <td>True</td>\n",
       "      <td>((infectious, agent), (infections), (case), (c...</td>\n",
       "    </tr>\n",
       "    <tr>\n",
       "      <th>6</th>\n",
       "      <td>f24242580be243d5fc3f432915d86af6854bb8b7</td>\n",
       "      <td>CZI</td>\n",
       "      <td>Real-time forecasts of the 2019-nCoV epidemic ...</td>\n",
       "      <td>10.1016/j.idm.2020.02.002</td>\n",
       "      <td>NaN</td>\n",
       "      <td>NaN</td>\n",
       "      <td>cc-by-nc-nd</td>\n",
       "      <td>The initial cluster of severe pneumonia cases ...</td>\n",
       "      <td>2020</td>\n",
       "      <td>Roosa, K.; Lee, Y.; Luo, R.; Kirpich, A.; Roth...</td>\n",
       "      <td>Infectious Disease Modelling</td>\n",
       "      <td>3.006029e+09</td>\n",
       "      <td>#865</td>\n",
       "      <td>True</td>\n",
       "      <td>((cluster), (severe), (pneumonia), (cases), (e...</td>\n",
       "    </tr>\n",
       "    <tr>\n",
       "      <th>8</th>\n",
       "      <td>e1b336d8be1a4c0ccc5a1bf41e48b3b004d3ece1</td>\n",
       "      <td>CZI</td>\n",
       "      <td>COVID-19 outbreak on the Diamond Princess crui...</td>\n",
       "      <td>10.1093/jtm/taaa030</td>\n",
       "      <td>NaN</td>\n",
       "      <td>NaN</td>\n",
       "      <td>cc-by-nc</td>\n",
       "      <td>Cruise ships carry a large number of people in...</td>\n",
       "      <td>2020</td>\n",
       "      <td>Rocklöv, J.; Sjödin, H.; Wilder-Smith, A.</td>\n",
       "      <td>Journal of Travel Medicine</td>\n",
       "      <td>3.006304e+09</td>\n",
       "      <td>#2926</td>\n",
       "      <td>True</td>\n",
       "      <td>((Cruise), (ships), (people), (confined), (spa...</td>\n",
       "    </tr>\n",
       "  </tbody>\n",
       "</table>\n",
       "</div>"
      ],
      "text/plain": [
       "                                        sha source_x  \\\n",
       "2  210a892deb1c61577f6fba58505fd65356ce6636      CZI   \n",
       "3  e3b40cc8e0e137c416b4a2273a4dca94ae8178cc      CZI   \n",
       "5  0df0d5270a9399cf4e23c0cdd877a80616a9725e      CZI   \n",
       "6  f24242580be243d5fc3f432915d86af6854bb8b7      CZI   \n",
       "8  e1b336d8be1a4c0ccc5a1bf41e48b3b004d3ece1      CZI   \n",
       "\n",
       "                                               title  \\\n",
       "2  Incubation Period and Other Epidemiological Ch...   \n",
       "3  Characteristics of and Public Health Responses...   \n",
       "5  An updated estimation of the risk of transmiss...   \n",
       "6  Real-time forecasts of the 2019-nCoV epidemic ...   \n",
       "8  COVID-19 outbreak on the Diamond Princess crui...   \n",
       "\n",
       "                         doi pmcid   pubmed_id      license  \\\n",
       "2         10.3390/jcm9020538   NaN         NaN        cc-by   \n",
       "3         10.3390/jcm9020575   NaN  32093211.0        cc-by   \n",
       "5  10.1016/j.idm.2020.02.001   NaN         NaN  cc-by-nc-nd   \n",
       "6  10.1016/j.idm.2020.02.002   NaN         NaN  cc-by-nc-nd   \n",
       "8        10.1093/jtm/taaa030   NaN         NaN     cc-by-nc   \n",
       "\n",
       "                                            abstract publish_time  \\\n",
       "2  The geographic spread of 2019 novel coronaviru...         2020   \n",
       "3  In December 2019, cases of unidentified pneumo...         2020   \n",
       "5  The basic reproduction number of an infectious...         2020   \n",
       "6  The initial cluster of severe pneumonia cases ...         2020   \n",
       "8  Cruise ships carry a large number of people in...         2020   \n",
       "\n",
       "                                             authors  \\\n",
       "2  Linton, M. Natalie; Kobayashi, Tetsuro; Yang, ...   \n",
       "3                   Deng, Sheng-Qun; Peng, Hong-Juan   \n",
       "5  Tang, Biao; Bragazzi, Nicola Luigi; Li, Qian; ...   \n",
       "6  Roosa, K.; Lee, Y.; Luo, R.; Kirpich, A.; Roth...   \n",
       "8          Rocklöv, J.; Sjödin, H.; Wilder-Smith, A.   \n",
       "\n",
       "                        journal  Microsoft Academic Paper ID WHO #Covidence  \\\n",
       "2  Journal of Clinical Medicine                 3.006065e+09          #1043   \n",
       "3                    J Clin Med                 1.776631e+08          #1999   \n",
       "5  Infectious Disease Modelling                 3.006029e+09           #729   \n",
       "6  Infectious Disease Modelling                 3.006029e+09           #865   \n",
       "8    Journal of Travel Medicine                 3.006304e+09          #2926   \n",
       "\n",
       "  has_full_text                                           Entities  \n",
       "2          True  ((geographic), (COVID-19), (infections), (epic...  \n",
       "3          True  ((cases), (unidentified, pneumonia), (history)...  \n",
       "5          True  ((infectious, agent), (infections), (case), (c...  \n",
       "6          True  ((cluster), (severe), (pneumonia), (cases), (e...  \n",
       "8          True  ((Cruise), (ships), (people), (confined), (spa...  "
      ]
     },
     "execution_count": 21,
     "metadata": {},
     "output_type": "execute_result"
    }
   ],
   "source": [
    "abstracts.head()"
   ]
  },
  {
   "cell_type": "code",
   "execution_count": 22,
   "metadata": {},
   "outputs": [],
   "source": [
    "vaccine_idx = ['vaccine' in str(abstracts.Entities.iloc[x]) for x in range(abstracts.Entities.shape[0])]"
   ]
  },
  {
   "cell_type": "code",
   "execution_count": 23,
   "metadata": {},
   "outputs": [
    {
     "data": {
      "text/plain": [
       "55"
      ]
     },
     "execution_count": 23,
     "metadata": {},
     "output_type": "execute_result"
    }
   ],
   "source": [
    "sum(vaccine_idx)"
   ]
  },
  {
   "cell_type": "code",
   "execution_count": null,
   "metadata": {},
   "outputs": [],
   "source": [
    "therapy = ['vaccine' in str(abstracts.Entities.iloc[x]) for x in range(abstracts.Entities.shape[0])]"
   ]
  },
  {
   "cell_type": "code",
   "execution_count": 24,
   "metadata": {},
   "outputs": [
    {
     "data": {
      "text/plain": [
       "3      ((cases), (unidentified, pneumonia), (history)...\n",
       "12     ((SUMMARY), (Genome, Detective), (web-based), ...\n",
       "14     ((Novel), (Coronavirus), (pathogen), (identifi...\n",
       "39     ((Viral, diseases), (morbidity), (mortality), ...\n",
       "44     ((cluster), (cases), (pneumonia), (cause), (Wu...\n",
       "54     ((beginning), (emergence), (COVID-19), (outbre...\n",
       "75     ((coronavirus), (Wuhan), (China), (respiratory...\n",
       "79     ((Wuhan, Health, Commission), (cluster), (atyp...\n",
       "88     ((Background), (Middle, East, Respiratory, Syn...\n",
       "96     ((Rapid), (diagnostics), (vaccines), (therapeu...\n",
       "115    ((coronaviruses), (CoVs), (isolated), (humans)...\n",
       "118    ((Launched), (Davos), (funding), (sovereign, i...\n",
       "139    ((Middle, East, Respiratory, Syndrome, coronav...\n",
       "164    ((years), (editorial, note), (unseasonable), (...\n",
       "198    ((Chinese), (scientists), (genetic, informatio...\n",
       "199    ((primary, plan), (editorial), (month), (comme...\n",
       "200    ((writing), (commentary), (coronavirus), (COVI...\n",
       "212    ((Abstract), (novel), (outbreak), (deaths), (t...\n",
       "217    ((month), (infected), (person), (diagnosed), (...\n",
       "219    ((outbreak), (coronavirus), (COVID-19), (infec...\n",
       "224    ((virus), (COVID-2019), (cases), (severe), (pn...\n",
       "234    ((Abstract), (effective), (drugs), (coronaviru...\n",
       "236    ((ABSTRACT), (Coronavirus), (outbreak), (Wuhan...\n",
       "275    ((Porcine, deltacoronavirus), (PDCoV), (vomiti...\n",
       "278    ((Wuhan), (China), (cases), (Huanan, Seafood, ...\n",
       "292    ((announcement), (World, Health, Organization)...\n",
       "304    ((emergence), (coronavirus), (global, concern)...\n",
       "308    ((goal), (review), (vaccine), (coronavirus), (...\n",
       "333    ((concerns), (study), (genome), (Wuhan, Seafoo...\n",
       "364    ((SARS-CoV-2), (disease), (COVID-19), (viral, ...\n",
       "423    ((novel), (outbreak), (pneumonia), (Wuhan), (H...\n",
       "427    ((Avian), (infectious, bronchitis), (IB), (acu...\n",
       "466    ((examined), (efficacy), (combinant), (subunit...\n",
       "469    ((outbreak), (coronavirus, disease), (COVID-19...\n",
       "471    ((Middle, East, respiratory, syndrome, coronav...\n",
       "572    ((COVID-19), (airborne, route), (air, disinfec...\n",
       "609    ((World, Health, Organization), (fast-moving, ...\n",
       "614    ((Sanofi, Pasteur), (working), (US), (Biomedic...\n",
       "615    ((piece), (research), (speed), (scientists), (...\n",
       "656    ((Viruses), (infect), (host, cells), (binding)...\n",
       "658    ((emergence), (severe), (acute, respiratory, s...\n",
       "710    ((Coronaviruses), (severe), (respiratory), (en...\n",
       "720    ((coronavirus), (laboratory-confirmed), (human...\n",
       "748    ((Background), (Middle, East, respiratory, syn...\n",
       "772    ((spike), (cellular, receptors), (mediates), (...\n",
       "808    ((repatriation), (Japanese), (citizens), (Wuha...\n",
       "820    ((outbreak), (betacoronavirus), (pandemic, thr...\n",
       "831    ((North), (watchers), (country, ’s), (COVID-19...\n",
       "844    ((Antibody-dependent, enhancement), (ADE), (vi...\n",
       "870    ((years), (questions), (effectiveness), (Dyer,...\n",
       "872    ((Controlling), (outbreaks), (knowledge), (bio...\n",
       "945    ((world), (epidemic), (COVID-19), (disease), (...\n",
       "946    ((decade), (outbreak), (life-threatening), (hu...\n",
       "954    ((Chinese, health, officials), (cluster), (cas...\n",
       "957    ((outbreak), (coronavirus, disease), (COVID-19...\n",
       "Name: Entities, dtype: object"
      ]
     },
     "execution_count": 24,
     "metadata": {},
     "output_type": "execute_result"
    }
   ],
   "source": [
    "abstracts.Entities.loc[vaccine_idx]"
   ]
  },
  {
   "cell_type": "code",
   "execution_count": 83,
   "metadata": {},
   "outputs": [
    {
     "data": {
      "text/plain": [
       "'Novel Coronavirus (2019-nCoV) is an emerging pathogen that was first identified in Wuhan, China in late December 2019. This virus is responsible for the ongoing outbreak that causes severe respiratory illness and pneumonia-like infection in humans. Due to the increasing number of cases in China and outside China, the WHO declared coronavirus as a global health emergency. Nearly 35,000 cases were reported and at least 24 other countries or territories have reported coronavirus cases as early on as February. Inter-human transmission was reported in a few countries, including the United States. Neither an effective anti-viral nor a vaccine is currently available to treat this infection. As the virus is a newly emerging pathogen, many questions remain unanswered regarding the virus&rsquo;s reservoirs, pathogenesis, transmissibility, and much more is unknown. The collaborative efforts of researchers are needed to fill the knowledge gaps about this new virus, to develop the proper diagnostic tools, and effective treatment to combat this infection. Recent advancements in plant biotechnology proved that plants have the ability to produce vaccines or biopharmaceuticals rapidly in a short time. In this review, the outbreak of 2019-nCoV in China, the need for rapid vaccine development, and the potential of a plant system for biopharmaceutical development are discussed.'"
      ]
     },
     "execution_count": 83,
     "metadata": {},
     "output_type": "execute_result"
    }
   ],
   "source": [
    "abstracts.abstract.iloc[np.where(vaccine_idx)[0][2]]"
   ]
  },
  {
   "cell_type": "code",
   "execution_count": 33,
   "metadata": {},
   "outputs": [
    {
     "data": {
      "text/plain": [
       "28"
      ]
     },
     "execution_count": 33,
     "metadata": {},
     "output_type": "execute_result"
    }
   ],
   "source": [
    "np.where(vaccine_idx)[0][4]"
   ]
  },
  {
   "cell_type": "code",
   "execution_count": 35,
   "metadata": {},
   "outputs": [
    {
     "data": {
      "text/plain": [
       "'A novel coronavirus (2019-nCoV) originating in Wuhan, China presents a potential respiratory viral pandemic to the world population. Current efforts are focused on containment and quarantine of infected individuals. Ultimately, the outbreak could be controlled with a protective vaccine to prevent 2019-nCoV infection. While vaccine research should be pursued intensely, there exists today no therapy to treat 2019-nCoV upon infection, despite an urgent need to find options to help these patients and preclude potential death. Herein, I review the potential options to treat 2019-nCoV in patients, with an emphasis on the necessity for speed and timeliness in developing new and effective therapies in this outbreak. I consider the options of drug repurposing, developing neutralizing monoclonal antibody therapy, and an oligonucleotide strategy targeting the viral RNA genome, emphasizing the promise and pitfalls of these approaches. Finally, I advocate for the fastest strategy to develop a treatment now, which could be resistant to any mutations the virus may have in the future. The proposal is a biologic that blocks 2019-nCoV entry using a soluble version of the viral receptor, angiotensin-converting enzyme 2 (ACE2), fused to an immunoglobulin Fc domain (ACE2-Fc), providing a neutralizing antibody with maximal breath to avoid any viral escape, while also helping to recruit the immune system to build lasting immunity. The ACE2-Fc therapy would also supplement decreased ACE2 levels in the lungs during infection, thereby directly treating acute respiratory distress pathophysiology as a third mechanism of action. The sequence of the ACE2-Fc protein is provided to investigators, allowing its possible use in recombinant protein expression systems to start producing drug today to treat patients under compassionate use, while formal clinical trials are later undertaken. Such a treatment could help infected patients before a protective vaccine is developed and widely available in the coming months to year(s).'"
      ]
     },
     "execution_count": 35,
     "metadata": {},
     "output_type": "execute_result"
    }
   ],
   "source": [
    "abstracts.iloc[np.where(vaccine_idx)[0][6],7]"
   ]
  },
  {
   "cell_type": "code",
   "execution_count": 29,
   "metadata": {},
   "outputs": [
    {
     "ename": "ValueError",
     "evalue": "[E007] 'Negex' already exists in pipeline. Existing names: ['tagger', 'parser', 'ner', 'Negex']",
     "output_type": "error",
     "traceback": [
      "\u001b[0;31m---------------------------------------------------------------------------\u001b[0m",
      "\u001b[0;31mValueError\u001b[0m                                Traceback (most recent call last)",
      "\u001b[0;32m<ipython-input-29-437dde1390d6>\u001b[0m in \u001b[0;36m<module>\u001b[0;34m\u001b[0m\n\u001b[1;32m      1\u001b[0m \u001b[0mnegex\u001b[0m \u001b[0;34m=\u001b[0m \u001b[0mNegex\u001b[0m\u001b[0;34m(\u001b[0m\u001b[0mnlp\u001b[0m\u001b[0;34m)\u001b[0m\u001b[0;34m\u001b[0m\u001b[0;34m\u001b[0m\u001b[0m\n\u001b[0;32m----> 2\u001b[0;31m \u001b[0mnlp\u001b[0m\u001b[0;34m.\u001b[0m\u001b[0madd_pipe\u001b[0m\u001b[0;34m(\u001b[0m\u001b[0mnegex\u001b[0m\u001b[0;34m,\u001b[0m \u001b[0mlast\u001b[0m\u001b[0;34m=\u001b[0m\u001b[0;32mTrue\u001b[0m\u001b[0;34m)\u001b[0m\u001b[0;34m\u001b[0m\u001b[0;34m\u001b[0m\u001b[0m\n\u001b[0m\u001b[1;32m      3\u001b[0m \u001b[0mdoc\u001b[0m \u001b[0;34m=\u001b[0m \u001b[0mnlp\u001b[0m\u001b[0;34m(\u001b[0m\u001b[0mabstracts\u001b[0m\u001b[0;34m.\u001b[0m\u001b[0miloc\u001b[0m\u001b[0;34m[\u001b[0m\u001b[0;36m10\u001b[0m\u001b[0;34m,\u001b[0m\u001b[0;36m7\u001b[0m\u001b[0;34m]\u001b[0m\u001b[0;34m)\u001b[0m\u001b[0;34m\u001b[0m\u001b[0;34m\u001b[0m\u001b[0m\n",
      "\u001b[0;32m~/anaconda/envs/NLP_COVID_19/lib/python3.6/site-packages/spacy/language.py\u001b[0m in \u001b[0;36madd_pipe\u001b[0;34m(self, component, name, before, after, first, last)\u001b[0m\n\u001b[1;32m    329\u001b[0m             \u001b[0mname\u001b[0m \u001b[0;34m=\u001b[0m \u001b[0mutil\u001b[0m\u001b[0;34m.\u001b[0m\u001b[0mget_component_name\u001b[0m\u001b[0;34m(\u001b[0m\u001b[0mcomponent\u001b[0m\u001b[0;34m)\u001b[0m\u001b[0;34m\u001b[0m\u001b[0;34m\u001b[0m\u001b[0m\n\u001b[1;32m    330\u001b[0m         \u001b[0;32mif\u001b[0m \u001b[0mname\u001b[0m \u001b[0;32min\u001b[0m \u001b[0mself\u001b[0m\u001b[0;34m.\u001b[0m\u001b[0mpipe_names\u001b[0m\u001b[0;34m:\u001b[0m\u001b[0;34m\u001b[0m\u001b[0;34m\u001b[0m\u001b[0m\n\u001b[0;32m--> 331\u001b[0;31m             \u001b[0;32mraise\u001b[0m \u001b[0mValueError\u001b[0m\u001b[0;34m(\u001b[0m\u001b[0mErrors\u001b[0m\u001b[0;34m.\u001b[0m\u001b[0mE007\u001b[0m\u001b[0;34m.\u001b[0m\u001b[0mformat\u001b[0m\u001b[0;34m(\u001b[0m\u001b[0mname\u001b[0m\u001b[0;34m=\u001b[0m\u001b[0mname\u001b[0m\u001b[0;34m,\u001b[0m \u001b[0mopts\u001b[0m\u001b[0;34m=\u001b[0m\u001b[0mself\u001b[0m\u001b[0;34m.\u001b[0m\u001b[0mpipe_names\u001b[0m\u001b[0;34m)\u001b[0m\u001b[0;34m)\u001b[0m\u001b[0;34m\u001b[0m\u001b[0;34m\u001b[0m\u001b[0m\n\u001b[0m\u001b[1;32m    332\u001b[0m         \u001b[0;32mif\u001b[0m \u001b[0msum\u001b[0m\u001b[0;34m(\u001b[0m\u001b[0;34m[\u001b[0m\u001b[0mbool\u001b[0m\u001b[0;34m(\u001b[0m\u001b[0mbefore\u001b[0m\u001b[0;34m)\u001b[0m\u001b[0;34m,\u001b[0m \u001b[0mbool\u001b[0m\u001b[0;34m(\u001b[0m\u001b[0mafter\u001b[0m\u001b[0;34m)\u001b[0m\u001b[0;34m,\u001b[0m \u001b[0mbool\u001b[0m\u001b[0;34m(\u001b[0m\u001b[0mfirst\u001b[0m\u001b[0;34m)\u001b[0m\u001b[0;34m,\u001b[0m \u001b[0mbool\u001b[0m\u001b[0;34m(\u001b[0m\u001b[0mlast\u001b[0m\u001b[0;34m)\u001b[0m\u001b[0;34m]\u001b[0m\u001b[0;34m)\u001b[0m \u001b[0;34m>=\u001b[0m \u001b[0;36m2\u001b[0m\u001b[0;34m:\u001b[0m\u001b[0;34m\u001b[0m\u001b[0;34m\u001b[0m\u001b[0m\n\u001b[1;32m    333\u001b[0m             \u001b[0;32mraise\u001b[0m \u001b[0mValueError\u001b[0m\u001b[0;34m(\u001b[0m\u001b[0mErrors\u001b[0m\u001b[0;34m.\u001b[0m\u001b[0mE006\u001b[0m\u001b[0;34m)\u001b[0m\u001b[0;34m\u001b[0m\u001b[0;34m\u001b[0m\u001b[0m\n",
      "\u001b[0;31mValueError\u001b[0m: [E007] 'Negex' already exists in pipeline. Existing names: ['tagger', 'parser', 'ner', 'Negex']"
     ]
    }
   ],
   "source": [
    "negex = Negex(nlp)\n",
    "nlp.add_pipe(negex, last=True)"
   ]
  },
  {
   "cell_type": "code",
   "execution_count": 36,
   "metadata": {},
   "outputs": [
    {
     "name": "stdout",
     "output_type": "stream",
     "text": [
      "coronavirus False\n",
      "Wuhan False\n",
      "China False\n",
      "respiratory False\n",
      "viral pandemic False\n",
      "world population False\n",
      "containment False\n",
      "quarantine False\n",
      "infected False\n",
      "individuals False\n",
      "outbreak False\n",
      "protective vaccine False\n",
      "infection False\n",
      "vaccine research False\n",
      "treat True\n",
      "infection True\n",
      "options True\n",
      "patients True\n",
      "potential True\n",
      "death True\n",
      "I review False\n",
      "options False\n",
      "treat False\n",
      "patients False\n",
      "emphasis False\n",
      "necessity False\n",
      "speed False\n",
      "timeliness False\n",
      "effective False\n",
      "therapies False\n",
      "outbreak False\n",
      "options False\n",
      "drug repurposing False\n",
      "neutralizing False\n",
      "monoclonal antibody therapy False\n",
      "oligonucleotide False\n",
      "targeting False\n",
      "viral RNA genome False\n",
      "pitfalls False\n",
      "approaches False\n",
      "I advocate False\n",
      "treatment False\n",
      "resistant False\n",
      "mutations False\n",
      "virus False\n",
      "future False\n",
      "proposal False\n",
      "biologic False\n",
      "blocks False\n",
      "entry False\n",
      "soluble False\n",
      "version False\n",
      "viral receptor False\n",
      "angiotensin-converting enzyme 2 False\n",
      "ACE2 False\n",
      "fused False\n",
      "immunoglobulin Fc domain False\n",
      "ACE2-Fc False\n",
      "neutralizing antibody False\n",
      "maximal breath False\n",
      "viral escape False\n",
      "recruit False\n",
      "immune system False\n",
      "build lasting False\n",
      "immunity False\n",
      "ACE2-Fc therapy False\n",
      "supplement False\n",
      "decreased False\n",
      "ACE2 False\n",
      "levels False\n",
      "lungs False\n",
      "infection False\n",
      "treating False\n",
      "acute respiratory distress False\n",
      "pathophysiology False\n",
      "mechanism False\n",
      "action False\n",
      "sequence False\n",
      "ACE2-Fc protein False\n",
      "investigators False\n",
      "recombinant protein expression systems False\n",
      "drug today False\n",
      "treat False\n",
      "patients False\n",
      "compassionate use False\n",
      "clinical trials False\n",
      "treatment False\n",
      "infected False\n",
      "patients False\n",
      "protective vaccine False\n",
      "months False\n",
      "year(s False\n"
     ]
    }
   ],
   "source": [
    "doc = nlp(abstracts.iloc[np.where(vaccine_idx)[0][6],7])\n",
    "for e in doc.ents:\n",
    "    print(e.text, e._.negex)"
   ]
  },
  {
   "cell_type": "code",
   "execution_count": 45,
   "metadata": {},
   "outputs": [
    {
     "data": {
      "text/plain": [
       "'for token in doc:\\n    print(token.text, token.lemma_, token.pos_, token.tag_, token.dep_, \\n          token.shape_, token.is_alpha, token.is_stop)'"
      ]
     },
     "execution_count": 45,
     "metadata": {},
     "output_type": "execute_result"
    }
   ],
   "source": [
    "'''for token in doc:\n",
    "    print(token.text, token.lemma_, token.pos_, token.tag_, token.dep_, \n",
    "          token.shape_, token.is_alpha, token.is_stop)'''"
   ]
  },
  {
   "cell_type": "code",
   "execution_count": 49,
   "metadata": {},
   "outputs": [
    {
     "data": {
      "text/plain": [
       "2        The geographic spread of 2019 novel coronaviru...\n",
       "3        In December 2019, cases of unidentified pneumo...\n",
       "5        The basic reproduction number of an infectious...\n",
       "6        The initial cluster of severe pneumonia cases ...\n",
       "8        Cruise ships carry a large number of people in...\n",
       "                               ...                        \n",
       "29134    The outbreak of a novel betacoronavirus (SARS-...\n",
       "29135    The outbreak of coronavirus disease (COVID-19)...\n",
       "29136    Since December 2019, coronavirus disease 2019 ...\n",
       "29137    Recent studies have demonstrated that SARS-CoV...\n",
       "29138    Tilorone is a 50-year-old synthetic small-mole...\n",
       "Name: abstract, Length: 26553, dtype: object"
      ]
     },
     "execution_count": 49,
     "metadata": {},
     "output_type": "execute_result"
    }
   ],
   "source": [
    "abstracts.abstract"
   ]
  },
  {
   "cell_type": "code",
   "execution_count": 44,
   "metadata": {},
   "outputs": [
    {
     "name": "stdout",
     "output_type": "stream",
     "text": [
      "Abbreviation \t Definition\n"
     ]
    }
   ],
   "source": [
    "abbreviation_pipe = AbbreviationDetector(nlp)\n",
    "\n",
    "nlp.add_pipe(abbreviation_pipe) #Print the Abbreviation and it's definition"
   ]
  },
  {
   "cell_type": "code",
   "execution_count": 66,
   "metadata": {},
   "outputs": [
    {
     "name": "stdout",
     "output_type": "stream",
     "text": [
      "Abbreviation \t Definition\n",
      "WHO \t (57, 58) World Health Organization\n",
      "SARS \t (113, 114) Severe Acute Respiratory Syndrome\n",
      "MERS \t (121, 122) Middle East Respiratory Syndrome\n",
      "CoVs \t (252, 253) Coronaviruses\n",
      "CoVs \t (2, 3) Coronaviruses\n",
      "CoVs \t (321, 322) Coronaviruses\n",
      "CoVs \t (231, 232) Coronaviruses\n",
      "MERS-CoV \t (106, 107) East respiratory syndrome coronavirus\n",
      "SARS \t (97, 98) severe acute respiratory syndrome\n",
      "SARSr-CoV \t (164, 165) SARS-related coronavirus\n",
      "COVID-19 \t (66, 67) coronavirus disease 2019\n",
      "COVID-19 \t (21, 22) coronavirus disease 2019\n",
      "COVID-19 \t (9, 10) coronavirus disease 2019\n",
      "WHO \t (13, 14) World Health Organization\n",
      "HRCT \t (16, 17) high-resolution computed tomography\n",
      "HRCT \t (72, 73) high-resolution computed tomography\n",
      "GGO \t (95, 96) ground-glass opacity\n",
      "PDCoV \t (180, 181) Porcine delta coronavirus\n",
      "PDCoV \t (119, 120) Porcine delta coronavirus\n",
      "PDCoV \t (4, 5) Porcine delta coronavirus\n",
      "lncRNAs \t (29, 30) non-coding RNAs\n",
      "lncRNAs \t (107, 108) non-coding RNAs\n",
      "lncRNAs \t (115, 116) non-coding RNAs\n",
      "lncRNAs \t (145, 146) non-coding RNAs\n",
      "lncRNAs \t (163, 164) non-coding RNAs\n",
      "lncRNAs \t (93, 94) non-coding RNAs\n",
      "ST \t (56, 57) swine testicular\n",
      "GO \t (77, 78) Gene Ontology\n",
      "KEGG \t (134, 135) Kyoto Encyclopedia of Genes and Genomes\n",
      "KEGG \t (87, 88) Kyoto Encyclopedia of Genes and Genomes\n",
      "SARS \t (13, 14) severe acute respiratory syndrome\n",
      "SARS \t (216, 217) severe acute respiratory syndrome\n",
      "SARS \t (201, 202) severe acute respiratory syndrome\n",
      "CoVs \t (26, 27) coronaviruses\n",
      "RT \t (52, 53) reverse transcriptase\n",
      "ANFIS \t (98, 99) adaptive neuro-fuzzy inference system\n",
      "ANFIS \t (166, 167) adaptive neuro-fuzzy inference system\n",
      "ANFIS \t (160, 161) adaptive neuro-fuzzy inference system\n",
      "FPA \t (127, 128) flower pollination algorithm\n",
      "FPA \t (107, 108) flower pollination algorithm\n",
      "SSA \t (122, 123) salp swarm algorithm\n",
      "SSA \t (116, 117) salp swarm algorithm\n",
      "WHO \t (181, 182) World Health Organization\n",
      "MAPE \t (228, 229) Mean Absolute Percentage Error\n",
      "RMSRE \t (237, 238) Mean Squared Relative Error\n",
      "RMSRE \t (246, 247) Mean Squared Relative Error\n",
      "SARS \t (10, 11) severe acute respiratory syndrome\n",
      "HCoVs \t (21, 22) coronaviruses\n",
      "SARS-CoV-2 \t (105, 106) acute respiratory syndrome coronavirus 2\n",
      "SARS-CoV-2 \t (160, 161) acute respiratory syndrome coronavirus 2\n",
      "SARS-CoV-2 \t (74, 75) acute respiratory syndrome coronavirus 2\n",
      "COVID-19 \t (99, 100) ldquo;coronavirus disease 2019&rdquo;\n",
      "ICU \t (35, 36) intensive care unit\n",
      "COVID-2019 \t (96, 97) Coronavirus disease 2019\n",
      "COVID-2019 \t (4, 5) Coronavirus disease 2019\n",
      "COVID-2019 \t (65, 66) Coronavirus disease 2019\n",
      "ARIMA \t (75, 76) Regressive Integrated Moving Average\n",
      "WHO \t (162, 163) World Health Organization\n",
      "USA and Canada \t (342, 345) UK, France, Russia and Germany), Oceania (Australia) and North America\n",
      "USA and Canada \t (447, 450) UK, France, Russia and Germany), Oceania (Australia) and North America\n",
      "COVID-19 \t (325, 326) Coronavirus Disease 2019\n",
      "COVID-19 \t (41, 42) Coronavirus Disease 2019\n",
      "MERS \t (215, 216) Middle East respiratory syndrome\n",
      "MERS \t (94, 95) Middle East respiratory syndrome\n",
      "SARS \t (102, 103) severe acute respiratory syndrome\n",
      "SARS \t (213, 214) severe acute respiratory syndrome\n",
      "EU/EEA \t (50, 51) Union/European Economic Area\n",
      "EU/EEA \t (65, 66) Union/European Economic Area\n",
      "EU/EEA \t (42, 43) Union/European Economic Area\n",
      "ML \t (156, 157) Maximum-Likelihood\n",
      "CI \t (283, 284) confidence interval\n",
      "CI \t (181, 182) confidence interval\n",
      "MERS-CoV \t (365, 366) Middle East respiratory syndrome coronavirus\n",
      "MERS-CoV \t (24, 25) Middle East respiratory syndrome coronavirus\n",
      "MERS-CoV \t (136, 137) Middle East respiratory syndrome coronavirus\n",
      "MERS-CoV \t (8, 9) Middle East respiratory syndrome coronavirus\n",
      "BD \t (94, 95) blood donors\n",
      "BD \t (278, 279) blood donors\n",
      "BD \t (248, 249) blood donors\n",
      "BD \t (154, 155) blood donors\n",
      "BD \t (189, 190) blood donors\n",
      "CC \t (164, 165) contacts\n",
      "CC \t (115, 116) contacts\n",
      "CC \t (227, 228) contacts\n",
      "CP \t (308, 309) PCR-confirmed patients\n",
      "CP \t (129, 130) PCR-confirmed patients\n",
      "CP \t (175, 176) PCR-confirmed patients\n",
      "CP \t (137, 138) PCR-confirmed patients\n",
      "CP \t (185, 186) PCR-confirmed patients\n",
      "IIFT \t (213, 214) indirect immunefluorescent tests\n",
      "ppNT \t (232, 233) pseudoparticle neutralization test\n",
      "ppNT \t (220, 221) pseudoparticle neutralization test\n",
      "ppNT \t (271, 272) pseudoparticle neutralization test\n",
      "SARS-CoV-2 \t (150, 151) Acute Respiratory Syndrome Coronavirus 2\n",
      "SARS-CoV-2 \t (68, 69) Acute Respiratory Syndrome Coronavirus 2\n",
      "SARS-CoV-2 \t (232, 233) Acute Respiratory Syndrome Coronavirus 2\n",
      "SARS-CoV-2 \t (60, 61) Acute Respiratory Syndrome Coronavirus 2\n",
      "SARS-CoV-2 \t (133, 134) Acute Respiratory Syndrome Coronavirus 2\n",
      "SARS-CoV-2 \t (24, 25) Acute Respiratory Syndrome Coronavirus 2\n",
      "S \t (121, 122) spike\n",
      "N \t (126, 127) nucleocapsid\n",
      "infectors \t (30, 31) infector-infectee pairs. Methods We collected dates of illness onset for primary cases\n",
      "infectees \t (36, 37) infectors) and secondary cases\n",
      "SARS \t (230, 231) severe acute respiratory syndrome\n",
      "SARS \t (221, 222) severe acute respiratory syndrome\n",
      "COVID-19 \t (69, 70) coronavirus disease 2019\n",
      "COVID-19 \t (26, 27) coronavirus disease 2019\n",
      "COVID-19 \t (429, 430) coronavirus disease 2019\n",
      "COVID-19 \t (82, 83) coronavirus disease 2019\n",
      "2019-nCoV \t (83, 84) coronavirus\n",
      "2019-nCoV \t (199, 200) coronavirus\n",
      "2019-nCoV \t (188, 189) coronavirus\n",
      "2019-nCoV \t (25, 26) coronavirus\n",
      "WHO \t (114, 115) World Health Organization\n",
      "WHO \t (34, 35) World Health Organization\n",
      "China \t (25, 26) Chinese health authorities in Wuhan City\n",
      "COVID-19 \t (6, 7) Coronavirus Disease 2019\n",
      "COVID-19 \t (140, 141) Coronavirus Disease 2019\n",
      "SARS \t (66, 67) Severe Acute Respiratory Syndrome\n",
      "MERS \t (75, 76) Middle East Respiratory Syndrome\n",
      "HCoV \t (83, 84) coronaviruses\n",
      "RT-PCR \t (168, 169) reverse-transcription polymerase chain reaction\n",
      "PPE \t (226, 227) protective equipment\n",
      "SARSr-CoV \t (18, 19) acute respiratory syndrome-related coronaviruses\n",
      "2019-nCoV \t (17, 18) coronavirus\n",
      "SSCP \t (105, 106) Severe Specific Contagious Pneumonia\n",
      "SSCP \t (81, 82) Severe Specific Contagious Pneumonia\n",
      "SSCP \t (161, 162) Severe Specific Contagious Pneumonia\n",
      "SARS-CoV-2 \t (233, 234) acute respiratory syndrome coronavirus 2\n",
      "SARS-CoV-2 \t (178, 179) acute respiratory syndrome coronavirus 2\n",
      "SARS-CoV-2 \t (48, 49) acute respiratory syndrome coronavirus 2\n",
      "RP \t (145, 146) Reservoir-People\n",
      "RP \t (170, 171) Reservoir-People\n",
      "ACE2 \t (248, 249) angiotensin-converting enzyme 2\n",
      "ACE2 \t (202, 203) angiotensin-converting enzyme 2\n",
      "ACE2-Fc \t (242, 243) ACE2), fused to an immunoglobulin Fc domain\n",
      "ACE2-Fc \t (274, 275) ACE2), fused to an immunoglobulin Fc domain\n",
      "ACE2-Fc \t (212, 213) ACE2), fused to an immunoglobulin Fc domain\n",
      "MERS-CoV \t (201, 202) Middle East Respiratory Syndrome Coronavirus\n",
      "MERS-CoV \t (136, 137) Middle East Respiratory Syndrome Coronavirus\n",
      "MERS-CoV \t (6, 7) Middle East Respiratory Syndrome Coronavirus\n",
      "PHEIC \t (120, 121) Public Health Emergency of International Concern\n",
      "SI \t (133, 134) serial intervals\n",
      "SI \t (114, 115) serial intervals\n",
      "ACE2 \t (57, 58) angiotensin-converting enzyme 2\n",
      "CoVs \t (257, 258) coronaviruses\n",
      "CoVs \t (8, 9) coronaviruses\n",
      "BAL \t (58, 59) bronchoalveolar lavage\n",
      "BAL \t (83, 84) bronchoalveolar lavage\n",
      "MERS-COV \t (77, 78) Middle East Respiratory Syndrome Coronavirus\n",
      "MERS-COV \t (112, 113) Middle East Respiratory Syndrome Coronavirus\n",
      "MERS-COV \t (231, 232) Middle East Respiratory Syndrome Coronavirus\n",
      "MERS-COV \t (130, 131) Middle East Respiratory Syndrome Coronavirus\n",
      "MERS-COV \t (8, 9) Middle East Respiratory Syndrome Coronavirus\n",
      "MERS-COV \t (150, 151) Middle East Respiratory Syndrome Coronavirus\n",
      "MERS-COV \t (260, 261) Middle East Respiratory Syndrome Coronavirus\n",
      "MERS-COV \t (57, 58) Middle East Respiratory Syndrome Coronavirus\n",
      "+ \t (36, 37) , positive\n",
      "S \t (232, 233) spike\n",
      "S \t (115, 116) spike\n",
      "S \t (151, 152) spike\n",
      "HLA \t (165, 166) human leukocyte antigen\n",
      "EVAg \t (152, 153) European Virus Archive - Global\n",
      "2019-nCoV \t (242, 243) 2019, an outbreak of respiratory illness caused by a novel coronavirus\n",
      "2019-nCoV \t (17, 18) 2019, an outbreak of respiratory illness caused by a novel coronavirus\n",
      "2019-nCoV \t (82, 83) 2019, an outbreak of respiratory illness caused by a novel coronavirus\n",
      "2019-nCoV \t (158, 159) 2019, an outbreak of respiratory illness caused by a novel coronavirus\n",
      "2019-nCoV \t (41, 42) 2019, an outbreak of respiratory illness caused by a novel coronavirus\n",
      "SI \t (120, 121) serial intervals\n",
      "SI \t (156, 157) serial intervals\n",
      "CoV \t (131, 132) coronaviruses\n",
      "SARS \t (139, 140) Severe Acute Respiratory Syndrome\n",
      "MERS \t (147, 148) Middle East Respiratory Syndrome\n",
      "COVID-19 \t (21, 22) Coronavirus Disease 2019\n",
      "NCP \t (75, 76) novel coronavirus pneumonia\n",
      "NCP \t (59, 60) novel coronavirus pneumonia\n",
      "SARS-CoV-2 \t (21, 22) acute respiratory syndrome coronavirus 2\n",
      "COVID-19 \t (31, 32) coronavirus disease-2019\n",
      "cCFR \t (196, 197) confirmed case fatality risk\n",
      "cCFR \t (30, 31) confirmed case fatality risk\n",
      "cCFR \t (76, 77) confirmed case fatality risk\n",
      "cCFR \t (39, 40) confirmed case fatality risk\n",
      "2019-nCoV \t (134, 135) coronavirus\n",
      "2019-nCoV \t (18, 19) coronavirus\n",
      "MERS-CoV \t (42, 43) East respiratory syndrome-Coronavirus\n",
      "MERS-CoV \t (244, 245) East respiratory syndrome-Coronavirus\n",
      "PRISMA \t (101, 102) Preferred Reporting Items for Systematic Reviews and Meta-Analyses\n",
      "RT-PCR \t (144, 145) reverse transcription polymerase chain reaction\n",
      "RT-PCR \t (152, 153) reverse transcription polymerase chain reaction\n"
     ]
    },
    {
     "name": "stdout",
     "output_type": "stream",
     "text": [
      "COVID-19 \t (45, 46) Coronavirus disease 2019\n",
      "COVID-19 \t (65, 66) Coronavirus disease 2019\n",
      "COVID-19 \t (8, 9) Coronavirus disease 2019\n",
      "SARS-CoV-2 \t (16, 17) acute respiratory syndrome coronavirus 2\n",
      "sCAP \t (23, 24) severe community-acquired pneumonia\n",
      "NCP \t (54, 55) novel coronavirus pneumonia\n",
      "TCGA \t (95, 96) Cancer Genome Atlas\n",
      "TCGA \t (61, 62) Cancer Genome Atlas\n",
      "CoVs \t (261, 262) coronaviruses\n",
      "CoVs \t (234, 235) coronaviruses\n",
      "CoVs \t (3, 4) coronaviruses\n",
      "CoVs \t (19, 20) coronaviruses\n",
      "CoVs \t (328, 329) coronaviruses\n",
      "SARS-CoV \t (202, 203) acute respiratory syndrome coronavirus\n",
      "SARS-CoV \t (68, 69) acute respiratory syndrome coronavirus\n",
      "SARS-CoV \t (142, 143) acute respiratory syndrome coronavirus\n",
      "SARS-CoV \t (28, 29) acute respiratory syndrome coronavirus\n",
      "SARS-CoV \t (245, 246) acute respiratory syndrome coronavirus\n",
      "MERS-CoV \t (247, 248) East respiratory syndrome coronavirus\n",
      "MERS-CoV \t (90, 91) East respiratory syndrome coronavirus\n",
      "MERS-CoV \t (37, 38) East respiratory syndrome coronavirus\n",
      "MERS-CoV \t (204, 205) East respiratory syndrome coronavirus\n",
      "MERS-CoV \t (144, 145) East respiratory syndrome coronavirus\n",
      "S \t (286, 287) spike\n",
      "S \t (275, 276) spike\n",
      "RBD \t (282, 283) receptor-binding domain\n",
      "CEPI \t (66, 67) Coalition for Epidemic Preparedness Innovations\n",
      "CEPI \t (181, 182) Coalition for Epidemic Preparedness Innovations\n",
      "CEPI \t (155, 156) Coalition for Epidemic Preparedness Innovations\n",
      "CEPI \t (209, 210) Coalition for Epidemic Preparedness Innovations\n",
      "CEPI \t (150, 151) Coalition for Epidemic Preparedness Innovations\n",
      "CEPI \t (22, 23) Coalition for Epidemic Preparedness Innovations\n",
      "SARS-CoV \t (6, 7) Severe acute respiratory syndrome coronavirus\n",
      "SARS-CoV \t (51, 52) Severe acute respiratory syndrome coronavirus\n",
      "MERS-CoV \t (15, 16) East respiratory syndrome coronavirus\n",
      "MERS-CoV \t (53, 54) East respiratory syndrome coronavirus\n",
      "SADS-CoV \t (111, 112) acute diarrhoea syndrome coronavirus\n",
      "CT \t (64, 65) computed tomography\n",
      "CT \t (16, 17) computed tomography\n",
      "CT \t (88, 89) computed tomography\n",
      "CT \t (127, 128) computed tomography\n",
      "CT \t (72, 73) computed tomography\n",
      "COVID-19 \t (98, 99) coronavirus disease 2019\n",
      "COVID-19 \t (11, 12) coronavirus disease 2019\n",
      "COVID-19 \t (63, 64) coronavirus disease 2019\n",
      "CoVs \t (318, 319) coronaviruses\n",
      "CoVs \t (5, 6) coronaviruses\n",
      "CoVs \t (60, 61) coronaviruses\n",
      "LTCFs \t (39, 40) long-term care facilities\n",
      "3CLpro \t (133, 134) 3-chymotrypsin-like protease\n",
      "RdRp \t (142, 143) RNA-dependent RNA polymerase\n",
      "PLpro \t (150, 151) like protease\n",
      "RBD \t (219, 220) receptor binding domain\n",
      "RBD \t (22, 23) receptor binding domain\n",
      "RBD \t (155, 156) receptor binding domain\n",
      "RBD \t (82, 83) receptor binding domain\n",
      "ACE2 \t (182, 183) angiotensin converting enzyme 2\n",
      "ACE2 \t (118, 119) angiotensin converting enzyme 2\n",
      "ACE2 \t (93, 94) angiotensin converting enzyme 2\n",
      "ACE2 \t (217, 218) angiotensin converting enzyme 2\n",
      "ACE2 \t (120, 121) angiotensin converting enzyme 2\n",
      "ACE2 \t (148, 149) angiotensin converting enzyme 2\n",
      "MERS-CoV \t (25, 26) Middle East Respiratory Syndrome coronavirus\n",
      "MERS-CoV \t (265, 266) Middle East Respiratory Syndrome coronavirus\n",
      "MERS-CoV \t (118, 119) Middle East Respiratory Syndrome coronavirus\n",
      "MERS-CoV \t (6, 7) Middle East Respiratory Syndrome coronavirus\n",
      "S \t (211, 212) Spike glycoprotein\n",
      "S \t (49, 50) Spike glycoprotein\n",
      "S \t (35, 36) Spike glycoprotein\n",
      "S \t (22, 23) Spike glycoprotein\n",
      "SARS-Cov-2 \t (320, 321) acute respiratory syndrome coronavirus 2\n",
      "SARS-Cov-2 \t (25, 26) acute respiratory syndrome coronavirus 2\n",
      "SARS-Cov-2 \t (55, 56) acute respiratory syndrome coronavirus 2\n",
      "2019-nCoV \t (35, 36) coronavirus\n",
      "2019-nCoV \t (147, 148) coronavirus\n",
      "ADME \t (118, 119) absorption, distribution, metabolism and excretion\n",
      "COVID-19 \t (14, 15) coronavirus disease 19\n",
      "CSG \t (44, 45) Coronaviridae Study Group\n",
      "CSG \t (99, 100) Coronaviridae Study Group\n",
      "CSG \t (144, 145) Coronaviridae Study Group\n",
      "SARS-CoVs \t (120, 121) acute respiratory syndrome coronaviruses\n"
     ]
    }
   ],
   "source": [
    "print(\"Abbreviation\", \"\\t\", \"Definition\")\n",
    "for i in range(100) :   \n",
    "    doc = nlp(abstracts.iloc[i,7])\n",
    "\n",
    "    for abrv in doc._.abbreviations:\n",
    "        print(f\"{abrv} \\t ({abrv.start}, {abrv.end}) {abrv._.long_form}\")"
   ]
  },
  {
   "cell_type": "code",
   "execution_count": 67,
   "metadata": {},
   "outputs": [
    {
     "name": "stdout",
     "output_type": "stream",
     "text": [
      "https://s3-us-west-2.amazonaws.com/ai2-s2-scispacy/data/linking_model/tfidf_vectors_sparse.npz not found in cache, downloading to /var/folders/nt/qt5rc4mn5cx7ylghyhs2jhsh0000gn/T/tmp6sfew20t\n"
     ]
    },
    {
     "ename": "KeyboardInterrupt",
     "evalue": "",
     "output_type": "error",
     "traceback": [
      "\u001b[0;31m---------------------------------------------------------------------------\u001b[0m",
      "\u001b[0;31mKeyboardInterrupt\u001b[0m                         Traceback (most recent call last)",
      "\u001b[0;32m<ipython-input-67-fd80b8f267ec>\u001b[0m in \u001b[0;36m<module>\u001b[0;34m\u001b[0m\n\u001b[1;32m      1\u001b[0m \u001b[0mnlp\u001b[0m \u001b[0;34m=\u001b[0m \u001b[0mspacy\u001b[0m\u001b[0;34m.\u001b[0m\u001b[0mload\u001b[0m\u001b[0;34m(\u001b[0m\u001b[0;34m\"en_core_sci_sm\"\u001b[0m\u001b[0;34m)\u001b[0m\u001b[0;34m\u001b[0m\u001b[0;34m\u001b[0m\u001b[0m\n\u001b[0;32m----> 2\u001b[0;31m \u001b[0mlinker\u001b[0m \u001b[0;34m=\u001b[0m \u001b[0mUmlsEntityLinker\u001b[0m\u001b[0;34m(\u001b[0m\u001b[0mresolve_abbreviations\u001b[0m\u001b[0;34m=\u001b[0m\u001b[0;32mTrue\u001b[0m\u001b[0;34m)\u001b[0m\u001b[0;34m\u001b[0m\u001b[0;34m\u001b[0m\u001b[0m\n\u001b[0m\u001b[1;32m      3\u001b[0m \u001b[0;34m\u001b[0m\u001b[0m\n\u001b[1;32m      4\u001b[0m \u001b[0mnlp\u001b[0m\u001b[0;34m.\u001b[0m\u001b[0madd_pipe\u001b[0m\u001b[0;34m(\u001b[0m\u001b[0mlinker\u001b[0m\u001b[0;34m)\u001b[0m\u001b[0;31m# Each entity is linked to UMLS with a score# (currently just char-3gram matching).\u001b[0m\u001b[0;34m\u001b[0m\u001b[0;34m\u001b[0m\u001b[0m\n\u001b[1;32m      5\u001b[0m \u001b[0;32mfor\u001b[0m \u001b[0mumls_ent\u001b[0m \u001b[0;32min\u001b[0m \u001b[0mentity\u001b[0m\u001b[0;34m.\u001b[0m\u001b[0m_\u001b[0m\u001b[0;34m.\u001b[0m\u001b[0mumls_ents\u001b[0m\u001b[0;34m:\u001b[0m\u001b[0;34m\u001b[0m\u001b[0;34m\u001b[0m\u001b[0m\n",
      "\u001b[0;32m~/anaconda/envs/NLP_COVID_19/lib/python3.6/site-packages/scispacy/umls_linking.py\u001b[0m in \u001b[0;36m__init__\u001b[0;34m(self, candidate_generator, resolve_abbreviations, k, threshold, no_definition_threshold, filter_for_definitions, max_entities_per_mention)\u001b[0m\n\u001b[1;32m     66\u001b[0m         \u001b[0mSpan\u001b[0m\u001b[0;34m.\u001b[0m\u001b[0mset_extension\u001b[0m\u001b[0;34m(\u001b[0m\u001b[0;34m\"umls_ents\"\u001b[0m\u001b[0;34m,\u001b[0m \u001b[0mdefault\u001b[0m\u001b[0;34m=\u001b[0m\u001b[0;34m[\u001b[0m\u001b[0;34m]\u001b[0m\u001b[0;34m,\u001b[0m \u001b[0mforce\u001b[0m\u001b[0;34m=\u001b[0m\u001b[0;32mTrue\u001b[0m\u001b[0;34m)\u001b[0m\u001b[0;34m\u001b[0m\u001b[0;34m\u001b[0m\u001b[0m\n\u001b[1;32m     67\u001b[0m \u001b[0;34m\u001b[0m\u001b[0m\n\u001b[0;32m---> 68\u001b[0;31m         \u001b[0mself\u001b[0m\u001b[0;34m.\u001b[0m\u001b[0mcandidate_generator\u001b[0m \u001b[0;34m=\u001b[0m \u001b[0mcandidate_generator\u001b[0m \u001b[0;32mor\u001b[0m \u001b[0mCandidateGenerator\u001b[0m\u001b[0;34m(\u001b[0m\u001b[0;34m)\u001b[0m\u001b[0;34m\u001b[0m\u001b[0;34m\u001b[0m\u001b[0m\n\u001b[0m\u001b[1;32m     69\u001b[0m         \u001b[0mself\u001b[0m\u001b[0;34m.\u001b[0m\u001b[0mresolve_abbreviations\u001b[0m \u001b[0;34m=\u001b[0m \u001b[0mresolve_abbreviations\u001b[0m\u001b[0;34m\u001b[0m\u001b[0;34m\u001b[0m\u001b[0m\n\u001b[1;32m     70\u001b[0m         \u001b[0mself\u001b[0m\u001b[0;34m.\u001b[0m\u001b[0mk\u001b[0m \u001b[0;34m=\u001b[0m \u001b[0mk\u001b[0m\u001b[0;34m\u001b[0m\u001b[0;34m\u001b[0m\u001b[0m\n",
      "\u001b[0;32m~/anaconda/envs/NLP_COVID_19/lib/python3.6/site-packages/scispacy/candidate_generation.py\u001b[0m in \u001b[0;36m__init__\u001b[0;34m(self, ann_index, tfidf_vectorizer, ann_concept_aliases_list, umls, verbose, ef_search)\u001b[0m\n\u001b[1;32m    121\u001b[0m                  ef_search: int = 200) -> None:\n\u001b[1;32m    122\u001b[0m \u001b[0;34m\u001b[0m\u001b[0m\n\u001b[0;32m--> 123\u001b[0;31m         \u001b[0mself\u001b[0m\u001b[0;34m.\u001b[0m\u001b[0mann_index\u001b[0m \u001b[0;34m=\u001b[0m \u001b[0mann_index\u001b[0m \u001b[0;32mor\u001b[0m \u001b[0mload_approximate_nearest_neighbours_index\u001b[0m\u001b[0;34m(\u001b[0m\u001b[0mef_search\u001b[0m\u001b[0;34m=\u001b[0m\u001b[0mef_search\u001b[0m\u001b[0;34m)\u001b[0m\u001b[0;34m\u001b[0m\u001b[0;34m\u001b[0m\u001b[0m\n\u001b[0m\u001b[1;32m    124\u001b[0m \u001b[0;34m\u001b[0m\u001b[0m\n\u001b[1;32m    125\u001b[0m         \u001b[0mself\u001b[0m\u001b[0;34m.\u001b[0m\u001b[0mvectorizer\u001b[0m \u001b[0;34m=\u001b[0m \u001b[0mtfidf_vectorizer\u001b[0m \u001b[0;32mor\u001b[0m \u001b[0mjoblib\u001b[0m\u001b[0;34m.\u001b[0m\u001b[0mload\u001b[0m\u001b[0;34m(\u001b[0m\u001b[0mcached_path\u001b[0m\u001b[0;34m(\u001b[0m\u001b[0mDEFAULT_PATHS\u001b[0m\u001b[0;34m[\u001b[0m\u001b[0;34m\"tfidf_vectorizer\"\u001b[0m\u001b[0;34m]\u001b[0m\u001b[0;34m)\u001b[0m\u001b[0;34m)\u001b[0m\u001b[0;34m\u001b[0m\u001b[0;34m\u001b[0m\u001b[0m\n",
      "\u001b[0;32m~/anaconda/envs/NLP_COVID_19/lib/python3.6/site-packages/scispacy/candidate_generation.py\u001b[0m in \u001b[0;36mload_approximate_nearest_neighbours_index\u001b[0;34m(tfidf_vectors_path, ann_index_path, ef_search)\u001b[0m\n\u001b[1;32m     60\u001b[0m         \u001b[0mof\u001b[0m \u001b[0mmagnitude\u001b[0m \u001b[0;32mfor\u001b[0m \u001b[0ma\u001b[0m \u001b[0msmall\u001b[0m \u001b[0mperformance\u001b[0m \u001b[0mhit\u001b[0m\u001b[0;34m.\u001b[0m\u001b[0;34m\u001b[0m\u001b[0;34m\u001b[0m\u001b[0m\n\u001b[1;32m     61\u001b[0m     \"\"\"\n\u001b[0;32m---> 62\u001b[0;31m     \u001b[0muml_concept_alias_tfidfs\u001b[0m \u001b[0;34m=\u001b[0m \u001b[0mscipy\u001b[0m\u001b[0;34m.\u001b[0m\u001b[0msparse\u001b[0m\u001b[0;34m.\u001b[0m\u001b[0mload_npz\u001b[0m\u001b[0;34m(\u001b[0m\u001b[0mcached_path\u001b[0m\u001b[0;34m(\u001b[0m\u001b[0mtfidf_vectors_path\u001b[0m\u001b[0;34m)\u001b[0m\u001b[0;34m)\u001b[0m\u001b[0;34m.\u001b[0m\u001b[0mastype\u001b[0m\u001b[0;34m(\u001b[0m\u001b[0mnumpy\u001b[0m\u001b[0;34m.\u001b[0m\u001b[0mfloat32\u001b[0m\u001b[0;34m)\u001b[0m\u001b[0;34m\u001b[0m\u001b[0;34m\u001b[0m\u001b[0m\n\u001b[0m\u001b[1;32m     63\u001b[0m     \u001b[0mann_index\u001b[0m \u001b[0;34m=\u001b[0m \u001b[0mnmslib\u001b[0m\u001b[0;34m.\u001b[0m\u001b[0minit\u001b[0m\u001b[0;34m(\u001b[0m\u001b[0mmethod\u001b[0m\u001b[0;34m=\u001b[0m\u001b[0;34m'hnsw'\u001b[0m\u001b[0;34m,\u001b[0m \u001b[0mspace\u001b[0m\u001b[0;34m=\u001b[0m\u001b[0;34m'cosinesimil_sparse'\u001b[0m\u001b[0;34m,\u001b[0m \u001b[0mdata_type\u001b[0m\u001b[0;34m=\u001b[0m\u001b[0mnmslib\u001b[0m\u001b[0;34m.\u001b[0m\u001b[0mDataType\u001b[0m\u001b[0;34m.\u001b[0m\u001b[0mSPARSE_VECTOR\u001b[0m\u001b[0;34m)\u001b[0m\u001b[0;34m\u001b[0m\u001b[0;34m\u001b[0m\u001b[0m\n\u001b[1;32m     64\u001b[0m     \u001b[0mann_index\u001b[0m\u001b[0;34m.\u001b[0m\u001b[0maddDataPointBatch\u001b[0m\u001b[0;34m(\u001b[0m\u001b[0muml_concept_alias_tfidfs\u001b[0m\u001b[0;34m)\u001b[0m\u001b[0;34m\u001b[0m\u001b[0;34m\u001b[0m\u001b[0m\n",
      "\u001b[0;32m~/anaconda/envs/NLP_COVID_19/lib/python3.6/site-packages/scispacy/file_cache.py\u001b[0m in \u001b[0;36mcached_path\u001b[0;34m(url_or_filename, cache_dir)\u001b[0m\n\u001b[1;32m     34\u001b[0m     \u001b[0;32mif\u001b[0m \u001b[0mparsed\u001b[0m\u001b[0;34m.\u001b[0m\u001b[0mscheme\u001b[0m \u001b[0;32min\u001b[0m \u001b[0;34m(\u001b[0m\u001b[0;34m'http'\u001b[0m\u001b[0;34m,\u001b[0m \u001b[0;34m'https'\u001b[0m\u001b[0;34m)\u001b[0m\u001b[0;34m:\u001b[0m\u001b[0;34m\u001b[0m\u001b[0;34m\u001b[0m\u001b[0m\n\u001b[1;32m     35\u001b[0m         \u001b[0;31m# URL, so get it from the cache (downloading if necessary)\u001b[0m\u001b[0;34m\u001b[0m\u001b[0;34m\u001b[0m\u001b[0;34m\u001b[0m\u001b[0m\n\u001b[0;32m---> 36\u001b[0;31m         \u001b[0;32mreturn\u001b[0m \u001b[0mget_from_cache\u001b[0m\u001b[0;34m(\u001b[0m\u001b[0murl_or_filename\u001b[0m\u001b[0;34m,\u001b[0m \u001b[0mcache_dir\u001b[0m\u001b[0;34m)\u001b[0m\u001b[0;34m\u001b[0m\u001b[0;34m\u001b[0m\u001b[0m\n\u001b[0m\u001b[1;32m     37\u001b[0m     \u001b[0;32melif\u001b[0m \u001b[0mos\u001b[0m\u001b[0;34m.\u001b[0m\u001b[0mpath\u001b[0m\u001b[0;34m.\u001b[0m\u001b[0mexists\u001b[0m\u001b[0;34m(\u001b[0m\u001b[0murl_or_filename\u001b[0m\u001b[0;34m)\u001b[0m\u001b[0;34m:\u001b[0m\u001b[0;34m\u001b[0m\u001b[0;34m\u001b[0m\u001b[0m\n\u001b[1;32m     38\u001b[0m         \u001b[0;31m# File, and it exists.\u001b[0m\u001b[0;34m\u001b[0m\u001b[0;34m\u001b[0m\u001b[0;34m\u001b[0m\u001b[0m\n",
      "\u001b[0;32m~/anaconda/envs/NLP_COVID_19/lib/python3.6/site-packages/scispacy/file_cache.py\u001b[0m in \u001b[0;36mget_from_cache\u001b[0;34m(url, cache_dir)\u001b[0m\n\u001b[1;32m    125\u001b[0m \u001b[0;34m\u001b[0m\u001b[0m\n\u001b[1;32m    126\u001b[0m             \u001b[0;31m# GET file object\u001b[0m\u001b[0;34m\u001b[0m\u001b[0;34m\u001b[0m\u001b[0;34m\u001b[0m\u001b[0m\n\u001b[0;32m--> 127\u001b[0;31m             \u001b[0mhttp_get\u001b[0m\u001b[0;34m(\u001b[0m\u001b[0murl\u001b[0m\u001b[0;34m,\u001b[0m \u001b[0mtemp_file\u001b[0m\u001b[0;34m)\u001b[0m\u001b[0;34m\u001b[0m\u001b[0;34m\u001b[0m\u001b[0m\n\u001b[0m\u001b[1;32m    128\u001b[0m \u001b[0;34m\u001b[0m\u001b[0m\n\u001b[1;32m    129\u001b[0m             \u001b[0;31m# we are copying the file before closing it, so flush to avoid truncation\u001b[0m\u001b[0;34m\u001b[0m\u001b[0;34m\u001b[0m\u001b[0;34m\u001b[0m\u001b[0m\n",
      "\u001b[0;32m~/anaconda/envs/NLP_COVID_19/lib/python3.6/site-packages/scispacy/file_cache.py\u001b[0m in \u001b[0;36mhttp_get\u001b[0;34m(url, temp_file)\u001b[0m\n\u001b[1;32m     92\u001b[0m \u001b[0;32mdef\u001b[0m \u001b[0mhttp_get\u001b[0m\u001b[0;34m(\u001b[0m\u001b[0murl\u001b[0m\u001b[0;34m:\u001b[0m \u001b[0mstr\u001b[0m\u001b[0;34m,\u001b[0m \u001b[0mtemp_file\u001b[0m\u001b[0;34m:\u001b[0m \u001b[0mIO\u001b[0m\u001b[0;34m)\u001b[0m \u001b[0;34m->\u001b[0m \u001b[0;32mNone\u001b[0m\u001b[0;34m:\u001b[0m\u001b[0;34m\u001b[0m\u001b[0;34m\u001b[0m\u001b[0m\n\u001b[1;32m     93\u001b[0m     \u001b[0mreq\u001b[0m \u001b[0;34m=\u001b[0m \u001b[0mrequests\u001b[0m\u001b[0;34m.\u001b[0m\u001b[0mget\u001b[0m\u001b[0;34m(\u001b[0m\u001b[0murl\u001b[0m\u001b[0;34m,\u001b[0m \u001b[0mstream\u001b[0m\u001b[0;34m=\u001b[0m\u001b[0;32mTrue\u001b[0m\u001b[0;34m)\u001b[0m\u001b[0;34m\u001b[0m\u001b[0;34m\u001b[0m\u001b[0m\n\u001b[0;32m---> 94\u001b[0;31m     \u001b[0;32mfor\u001b[0m \u001b[0mchunk\u001b[0m \u001b[0;32min\u001b[0m \u001b[0mreq\u001b[0m\u001b[0;34m.\u001b[0m\u001b[0miter_content\u001b[0m\u001b[0;34m(\u001b[0m\u001b[0mchunk_size\u001b[0m\u001b[0;34m=\u001b[0m\u001b[0;36m1024\u001b[0m\u001b[0;34m)\u001b[0m\u001b[0;34m:\u001b[0m\u001b[0;34m\u001b[0m\u001b[0;34m\u001b[0m\u001b[0m\n\u001b[0m\u001b[1;32m     95\u001b[0m         \u001b[0;32mif\u001b[0m \u001b[0mchunk\u001b[0m\u001b[0;34m:\u001b[0m \u001b[0;31m# filter out keep-alive new chunks\u001b[0m\u001b[0;34m\u001b[0m\u001b[0;34m\u001b[0m\u001b[0m\n\u001b[1;32m     96\u001b[0m             \u001b[0mtemp_file\u001b[0m\u001b[0;34m.\u001b[0m\u001b[0mwrite\u001b[0m\u001b[0;34m(\u001b[0m\u001b[0mchunk\u001b[0m\u001b[0;34m)\u001b[0m\u001b[0;34m\u001b[0m\u001b[0;34m\u001b[0m\u001b[0m\n",
      "\u001b[0;32m~/anaconda/envs/NLP_COVID_19/lib/python3.6/site-packages/requests/models.py\u001b[0m in \u001b[0;36mgenerate\u001b[0;34m()\u001b[0m\n\u001b[1;32m    749\u001b[0m             \u001b[0;32mif\u001b[0m \u001b[0mhasattr\u001b[0m\u001b[0;34m(\u001b[0m\u001b[0mself\u001b[0m\u001b[0;34m.\u001b[0m\u001b[0mraw\u001b[0m\u001b[0;34m,\u001b[0m \u001b[0;34m'stream'\u001b[0m\u001b[0;34m)\u001b[0m\u001b[0;34m:\u001b[0m\u001b[0;34m\u001b[0m\u001b[0;34m\u001b[0m\u001b[0m\n\u001b[1;32m    750\u001b[0m                 \u001b[0;32mtry\u001b[0m\u001b[0;34m:\u001b[0m\u001b[0;34m\u001b[0m\u001b[0;34m\u001b[0m\u001b[0m\n\u001b[0;32m--> 751\u001b[0;31m                     \u001b[0;32mfor\u001b[0m \u001b[0mchunk\u001b[0m \u001b[0;32min\u001b[0m \u001b[0mself\u001b[0m\u001b[0;34m.\u001b[0m\u001b[0mraw\u001b[0m\u001b[0;34m.\u001b[0m\u001b[0mstream\u001b[0m\u001b[0;34m(\u001b[0m\u001b[0mchunk_size\u001b[0m\u001b[0;34m,\u001b[0m \u001b[0mdecode_content\u001b[0m\u001b[0;34m=\u001b[0m\u001b[0;32mTrue\u001b[0m\u001b[0;34m)\u001b[0m\u001b[0;34m:\u001b[0m\u001b[0;34m\u001b[0m\u001b[0;34m\u001b[0m\u001b[0m\n\u001b[0m\u001b[1;32m    752\u001b[0m                         \u001b[0;32myield\u001b[0m \u001b[0mchunk\u001b[0m\u001b[0;34m\u001b[0m\u001b[0;34m\u001b[0m\u001b[0m\n\u001b[1;32m    753\u001b[0m                 \u001b[0;32mexcept\u001b[0m \u001b[0mProtocolError\u001b[0m \u001b[0;32mas\u001b[0m \u001b[0me\u001b[0m\u001b[0;34m:\u001b[0m\u001b[0;34m\u001b[0m\u001b[0;34m\u001b[0m\u001b[0m\n",
      "\u001b[0;32m~/anaconda/envs/NLP_COVID_19/lib/python3.6/site-packages/urllib3/response.py\u001b[0m in \u001b[0;36mstream\u001b[0;34m(self, amt, decode_content)\u001b[0m\n\u001b[1;32m    562\u001b[0m         \u001b[0;32melse\u001b[0m\u001b[0;34m:\u001b[0m\u001b[0;34m\u001b[0m\u001b[0;34m\u001b[0m\u001b[0m\n\u001b[1;32m    563\u001b[0m             \u001b[0;32mwhile\u001b[0m \u001b[0;32mnot\u001b[0m \u001b[0mis_fp_closed\u001b[0m\u001b[0;34m(\u001b[0m\u001b[0mself\u001b[0m\u001b[0;34m.\u001b[0m\u001b[0m_fp\u001b[0m\u001b[0;34m)\u001b[0m\u001b[0;34m:\u001b[0m\u001b[0;34m\u001b[0m\u001b[0;34m\u001b[0m\u001b[0m\n\u001b[0;32m--> 564\u001b[0;31m                 \u001b[0mdata\u001b[0m \u001b[0;34m=\u001b[0m \u001b[0mself\u001b[0m\u001b[0;34m.\u001b[0m\u001b[0mread\u001b[0m\u001b[0;34m(\u001b[0m\u001b[0mamt\u001b[0m\u001b[0;34m=\u001b[0m\u001b[0mamt\u001b[0m\u001b[0;34m,\u001b[0m \u001b[0mdecode_content\u001b[0m\u001b[0;34m=\u001b[0m\u001b[0mdecode_content\u001b[0m\u001b[0;34m)\u001b[0m\u001b[0;34m\u001b[0m\u001b[0;34m\u001b[0m\u001b[0m\n\u001b[0m\u001b[1;32m    565\u001b[0m \u001b[0;34m\u001b[0m\u001b[0m\n\u001b[1;32m    566\u001b[0m                 \u001b[0;32mif\u001b[0m \u001b[0mdata\u001b[0m\u001b[0;34m:\u001b[0m\u001b[0;34m\u001b[0m\u001b[0;34m\u001b[0m\u001b[0m\n",
      "\u001b[0;32m~/anaconda/envs/NLP_COVID_19/lib/python3.6/site-packages/urllib3/response.py\u001b[0m in \u001b[0;36mread\u001b[0;34m(self, amt, decode_content, cache_content)\u001b[0m\n\u001b[1;32m    505\u001b[0m             \u001b[0;32melse\u001b[0m\u001b[0;34m:\u001b[0m\u001b[0;34m\u001b[0m\u001b[0;34m\u001b[0m\u001b[0m\n\u001b[1;32m    506\u001b[0m                 \u001b[0mcache_content\u001b[0m \u001b[0;34m=\u001b[0m \u001b[0;32mFalse\u001b[0m\u001b[0;34m\u001b[0m\u001b[0;34m\u001b[0m\u001b[0m\n\u001b[0;32m--> 507\u001b[0;31m                 \u001b[0mdata\u001b[0m \u001b[0;34m=\u001b[0m \u001b[0mself\u001b[0m\u001b[0;34m.\u001b[0m\u001b[0m_fp\u001b[0m\u001b[0;34m.\u001b[0m\u001b[0mread\u001b[0m\u001b[0;34m(\u001b[0m\u001b[0mamt\u001b[0m\u001b[0;34m)\u001b[0m \u001b[0;32mif\u001b[0m \u001b[0;32mnot\u001b[0m \u001b[0mfp_closed\u001b[0m \u001b[0;32melse\u001b[0m \u001b[0;34mb\"\"\u001b[0m\u001b[0;34m\u001b[0m\u001b[0;34m\u001b[0m\u001b[0m\n\u001b[0m\u001b[1;32m    508\u001b[0m                 if (\n\u001b[1;32m    509\u001b[0m                     \u001b[0mamt\u001b[0m \u001b[0;34m!=\u001b[0m \u001b[0;36m0\u001b[0m \u001b[0;32mand\u001b[0m \u001b[0;32mnot\u001b[0m \u001b[0mdata\u001b[0m\u001b[0;34m\u001b[0m\u001b[0;34m\u001b[0m\u001b[0m\n",
      "\u001b[0;32m~/anaconda/envs/NLP_COVID_19/lib/python3.6/http/client.py\u001b[0m in \u001b[0;36mread\u001b[0;34m(self, amt)\u001b[0m\n\u001b[1;32m    457\u001b[0m             \u001b[0;31m# Amount is given, implement using readinto\u001b[0m\u001b[0;34m\u001b[0m\u001b[0;34m\u001b[0m\u001b[0;34m\u001b[0m\u001b[0m\n\u001b[1;32m    458\u001b[0m             \u001b[0mb\u001b[0m \u001b[0;34m=\u001b[0m \u001b[0mbytearray\u001b[0m\u001b[0;34m(\u001b[0m\u001b[0mamt\u001b[0m\u001b[0;34m)\u001b[0m\u001b[0;34m\u001b[0m\u001b[0;34m\u001b[0m\u001b[0m\n\u001b[0;32m--> 459\u001b[0;31m             \u001b[0mn\u001b[0m \u001b[0;34m=\u001b[0m \u001b[0mself\u001b[0m\u001b[0;34m.\u001b[0m\u001b[0mreadinto\u001b[0m\u001b[0;34m(\u001b[0m\u001b[0mb\u001b[0m\u001b[0;34m)\u001b[0m\u001b[0;34m\u001b[0m\u001b[0;34m\u001b[0m\u001b[0m\n\u001b[0m\u001b[1;32m    460\u001b[0m             \u001b[0;32mreturn\u001b[0m \u001b[0mmemoryview\u001b[0m\u001b[0;34m(\u001b[0m\u001b[0mb\u001b[0m\u001b[0;34m)\u001b[0m\u001b[0;34m[\u001b[0m\u001b[0;34m:\u001b[0m\u001b[0mn\u001b[0m\u001b[0;34m]\u001b[0m\u001b[0;34m.\u001b[0m\u001b[0mtobytes\u001b[0m\u001b[0;34m(\u001b[0m\u001b[0;34m)\u001b[0m\u001b[0;34m\u001b[0m\u001b[0;34m\u001b[0m\u001b[0m\n\u001b[1;32m    461\u001b[0m         \u001b[0;32melse\u001b[0m\u001b[0;34m:\u001b[0m\u001b[0;34m\u001b[0m\u001b[0;34m\u001b[0m\u001b[0m\n",
      "\u001b[0;32m~/anaconda/envs/NLP_COVID_19/lib/python3.6/http/client.py\u001b[0m in \u001b[0;36mreadinto\u001b[0;34m(self, b)\u001b[0m\n\u001b[1;32m    501\u001b[0m         \u001b[0;31m# connection, and the user is reading more bytes than will be provided\u001b[0m\u001b[0;34m\u001b[0m\u001b[0;34m\u001b[0m\u001b[0;34m\u001b[0m\u001b[0m\n\u001b[1;32m    502\u001b[0m         \u001b[0;31m# (for example, reading in 1k chunks)\u001b[0m\u001b[0;34m\u001b[0m\u001b[0;34m\u001b[0m\u001b[0;34m\u001b[0m\u001b[0m\n\u001b[0;32m--> 503\u001b[0;31m         \u001b[0mn\u001b[0m \u001b[0;34m=\u001b[0m \u001b[0mself\u001b[0m\u001b[0;34m.\u001b[0m\u001b[0mfp\u001b[0m\u001b[0;34m.\u001b[0m\u001b[0mreadinto\u001b[0m\u001b[0;34m(\u001b[0m\u001b[0mb\u001b[0m\u001b[0;34m)\u001b[0m\u001b[0;34m\u001b[0m\u001b[0;34m\u001b[0m\u001b[0m\n\u001b[0m\u001b[1;32m    504\u001b[0m         \u001b[0;32mif\u001b[0m \u001b[0;32mnot\u001b[0m \u001b[0mn\u001b[0m \u001b[0;32mand\u001b[0m \u001b[0mb\u001b[0m\u001b[0;34m:\u001b[0m\u001b[0;34m\u001b[0m\u001b[0;34m\u001b[0m\u001b[0m\n\u001b[1;32m    505\u001b[0m             \u001b[0;31m# Ideally, we would raise IncompleteRead if the content-length\u001b[0m\u001b[0;34m\u001b[0m\u001b[0;34m\u001b[0m\u001b[0;34m\u001b[0m\u001b[0m\n",
      "\u001b[0;32m~/anaconda/envs/NLP_COVID_19/lib/python3.6/socket.py\u001b[0m in \u001b[0;36mreadinto\u001b[0;34m(self, b)\u001b[0m\n\u001b[1;32m    584\u001b[0m         \u001b[0;32mwhile\u001b[0m \u001b[0;32mTrue\u001b[0m\u001b[0;34m:\u001b[0m\u001b[0;34m\u001b[0m\u001b[0;34m\u001b[0m\u001b[0m\n\u001b[1;32m    585\u001b[0m             \u001b[0;32mtry\u001b[0m\u001b[0;34m:\u001b[0m\u001b[0;34m\u001b[0m\u001b[0;34m\u001b[0m\u001b[0m\n\u001b[0;32m--> 586\u001b[0;31m                 \u001b[0;32mreturn\u001b[0m \u001b[0mself\u001b[0m\u001b[0;34m.\u001b[0m\u001b[0m_sock\u001b[0m\u001b[0;34m.\u001b[0m\u001b[0mrecv_into\u001b[0m\u001b[0;34m(\u001b[0m\u001b[0mb\u001b[0m\u001b[0;34m)\u001b[0m\u001b[0;34m\u001b[0m\u001b[0;34m\u001b[0m\u001b[0m\n\u001b[0m\u001b[1;32m    587\u001b[0m             \u001b[0;32mexcept\u001b[0m \u001b[0mtimeout\u001b[0m\u001b[0;34m:\u001b[0m\u001b[0;34m\u001b[0m\u001b[0;34m\u001b[0m\u001b[0m\n\u001b[1;32m    588\u001b[0m                 \u001b[0mself\u001b[0m\u001b[0;34m.\u001b[0m\u001b[0m_timeout_occurred\u001b[0m \u001b[0;34m=\u001b[0m \u001b[0;32mTrue\u001b[0m\u001b[0;34m\u001b[0m\u001b[0;34m\u001b[0m\u001b[0m\n",
      "\u001b[0;32m~/anaconda/envs/NLP_COVID_19/lib/python3.6/ssl.py\u001b[0m in \u001b[0;36mrecv_into\u001b[0;34m(self, buffer, nbytes, flags)\u001b[0m\n\u001b[1;32m   1010\u001b[0m                   \u001b[0;34m\"non-zero flags not allowed in calls to recv_into() on %s\"\u001b[0m \u001b[0;34m%\u001b[0m\u001b[0;34m\u001b[0m\u001b[0;34m\u001b[0m\u001b[0m\n\u001b[1;32m   1011\u001b[0m                   self.__class__)\n\u001b[0;32m-> 1012\u001b[0;31m             \u001b[0;32mreturn\u001b[0m \u001b[0mself\u001b[0m\u001b[0;34m.\u001b[0m\u001b[0mread\u001b[0m\u001b[0;34m(\u001b[0m\u001b[0mnbytes\u001b[0m\u001b[0;34m,\u001b[0m \u001b[0mbuffer\u001b[0m\u001b[0;34m)\u001b[0m\u001b[0;34m\u001b[0m\u001b[0;34m\u001b[0m\u001b[0m\n\u001b[0m\u001b[1;32m   1013\u001b[0m         \u001b[0;32melse\u001b[0m\u001b[0;34m:\u001b[0m\u001b[0;34m\u001b[0m\u001b[0;34m\u001b[0m\u001b[0m\n\u001b[1;32m   1014\u001b[0m             \u001b[0;32mreturn\u001b[0m \u001b[0msocket\u001b[0m\u001b[0;34m.\u001b[0m\u001b[0mrecv_into\u001b[0m\u001b[0;34m(\u001b[0m\u001b[0mself\u001b[0m\u001b[0;34m,\u001b[0m \u001b[0mbuffer\u001b[0m\u001b[0;34m,\u001b[0m \u001b[0mnbytes\u001b[0m\u001b[0;34m,\u001b[0m \u001b[0mflags\u001b[0m\u001b[0;34m)\u001b[0m\u001b[0;34m\u001b[0m\u001b[0;34m\u001b[0m\u001b[0m\n",
      "\u001b[0;32m~/anaconda/envs/NLP_COVID_19/lib/python3.6/ssl.py\u001b[0m in \u001b[0;36mread\u001b[0;34m(self, len, buffer)\u001b[0m\n\u001b[1;32m    872\u001b[0m             \u001b[0;32mraise\u001b[0m \u001b[0mValueError\u001b[0m\u001b[0;34m(\u001b[0m\u001b[0;34m\"Read on closed or unwrapped SSL socket.\"\u001b[0m\u001b[0;34m)\u001b[0m\u001b[0;34m\u001b[0m\u001b[0;34m\u001b[0m\u001b[0m\n\u001b[1;32m    873\u001b[0m         \u001b[0;32mtry\u001b[0m\u001b[0;34m:\u001b[0m\u001b[0;34m\u001b[0m\u001b[0;34m\u001b[0m\u001b[0m\n\u001b[0;32m--> 874\u001b[0;31m             \u001b[0;32mreturn\u001b[0m \u001b[0mself\u001b[0m\u001b[0;34m.\u001b[0m\u001b[0m_sslobj\u001b[0m\u001b[0;34m.\u001b[0m\u001b[0mread\u001b[0m\u001b[0;34m(\u001b[0m\u001b[0mlen\u001b[0m\u001b[0;34m,\u001b[0m \u001b[0mbuffer\u001b[0m\u001b[0;34m)\u001b[0m\u001b[0;34m\u001b[0m\u001b[0;34m\u001b[0m\u001b[0m\n\u001b[0m\u001b[1;32m    875\u001b[0m         \u001b[0;32mexcept\u001b[0m \u001b[0mSSLError\u001b[0m \u001b[0;32mas\u001b[0m \u001b[0mx\u001b[0m\u001b[0;34m:\u001b[0m\u001b[0;34m\u001b[0m\u001b[0;34m\u001b[0m\u001b[0m\n\u001b[1;32m    876\u001b[0m             \u001b[0;32mif\u001b[0m \u001b[0mx\u001b[0m\u001b[0;34m.\u001b[0m\u001b[0margs\u001b[0m\u001b[0;34m[\u001b[0m\u001b[0;36m0\u001b[0m\u001b[0;34m]\u001b[0m \u001b[0;34m==\u001b[0m \u001b[0mSSL_ERROR_EOF\u001b[0m \u001b[0;32mand\u001b[0m \u001b[0mself\u001b[0m\u001b[0;34m.\u001b[0m\u001b[0msuppress_ragged_eofs\u001b[0m\u001b[0;34m:\u001b[0m\u001b[0;34m\u001b[0m\u001b[0;34m\u001b[0m\u001b[0m\n",
      "\u001b[0;32m~/anaconda/envs/NLP_COVID_19/lib/python3.6/ssl.py\u001b[0m in \u001b[0;36mread\u001b[0;34m(self, len, buffer)\u001b[0m\n\u001b[1;32m    629\u001b[0m         \"\"\"\n\u001b[1;32m    630\u001b[0m         \u001b[0;32mif\u001b[0m \u001b[0mbuffer\u001b[0m \u001b[0;32mis\u001b[0m \u001b[0;32mnot\u001b[0m \u001b[0;32mNone\u001b[0m\u001b[0;34m:\u001b[0m\u001b[0;34m\u001b[0m\u001b[0;34m\u001b[0m\u001b[0m\n\u001b[0;32m--> 631\u001b[0;31m             \u001b[0mv\u001b[0m \u001b[0;34m=\u001b[0m \u001b[0mself\u001b[0m\u001b[0;34m.\u001b[0m\u001b[0m_sslobj\u001b[0m\u001b[0;34m.\u001b[0m\u001b[0mread\u001b[0m\u001b[0;34m(\u001b[0m\u001b[0mlen\u001b[0m\u001b[0;34m,\u001b[0m \u001b[0mbuffer\u001b[0m\u001b[0;34m)\u001b[0m\u001b[0;34m\u001b[0m\u001b[0;34m\u001b[0m\u001b[0m\n\u001b[0m\u001b[1;32m    632\u001b[0m         \u001b[0;32melse\u001b[0m\u001b[0;34m:\u001b[0m\u001b[0;34m\u001b[0m\u001b[0;34m\u001b[0m\u001b[0m\n\u001b[1;32m    633\u001b[0m             \u001b[0mv\u001b[0m \u001b[0;34m=\u001b[0m \u001b[0mself\u001b[0m\u001b[0;34m.\u001b[0m\u001b[0m_sslobj\u001b[0m\u001b[0;34m.\u001b[0m\u001b[0mread\u001b[0m\u001b[0;34m(\u001b[0m\u001b[0mlen\u001b[0m\u001b[0;34m)\u001b[0m\u001b[0;34m\u001b[0m\u001b[0;34m\u001b[0m\u001b[0m\n",
      "\u001b[0;31mKeyboardInterrupt\u001b[0m: "
     ]
    }
   ],
   "source": [
    "nlp = spacy.load(\"en_core_sci_sm\")\n",
    "linker = UmlsEntityLinker(resolve_abbreviations=True)\n",
    "\n",
    "nlp.add_pipe(linker)# Each entity is linked to UMLS with a score# (currently just char-3gram matching).\n",
    "for umls_ent in entity._.umls_ents:\n",
    "    print(linker.umls.cui_to_entity[umls_ent[0]])"
   ]
  },
  {
   "cell_type": "code",
   "execution_count": null,
   "metadata": {},
   "outputs": [],
   "source": []
  }
 ],
 "metadata": {
  "kernelspec": {
   "display_name": "Python 3",
   "language": "python",
   "name": "python3"
  },
  "language_info": {
   "codemirror_mode": {
    "name": "ipython",
    "version": 3
   },
   "file_extension": ".py",
   "mimetype": "text/x-python",
   "name": "python",
   "nbconvert_exporter": "python",
   "pygments_lexer": "ipython3",
   "version": "3.6.10"
  }
 },
 "nbformat": 4,
 "nbformat_minor": 2
}
