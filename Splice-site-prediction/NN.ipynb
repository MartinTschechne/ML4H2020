{
 "cells": [
  {
   "cell_type": "code",
   "execution_count": 110,
   "metadata": {},
   "outputs": [],
   "source": [
    "import numpy as np\n",
    "import matplotlib.pyplot as plt\n",
    "import pandas as pd\n",
    "import tensorflow as tf\n",
    "from keras.models import Sequential\n",
    "from keras.layers import Dense, Dropout, Embedding, SimpleRNN, LSTM, GRU, Flatten\n",
    "from keras.layers.convolutional import Conv1D, MaxPooling1D\n",
    "from sklearn.model_selection import train_test_split\n",
    "from sklearn.metrics import classification_report, confusion_matrix\n",
    "from sklearn.utils.class_weight import compute_class_weight\n",
    "from sklearn.utils import resample"
   ]
  },
  {
   "cell_type": "code",
   "execution_count": 4,
   "metadata": {},
   "outputs": [],
   "source": [
    "df = pd.read_csv('../data/raw/exercise_data/C_elegans_acc_seq.csv',header=None,names=['labels','sequences'])"
   ]
  },
  {
   "cell_type": "code",
   "execution_count": 53,
   "metadata": {},
   "outputs": [],
   "source": [
    "df = pd.read_csv('../data/raw/exercise_data/human_dna_train_split.csv')"
   ]
  },
  {
   "cell_type": "code",
   "execution_count": 54,
   "metadata": {},
   "outputs": [
    {
     "data": {
      "text/html": [
       "<div>\n",
       "<style scoped>\n",
       "    .dataframe tbody tr th:only-of-type {\n",
       "        vertical-align: middle;\n",
       "    }\n",
       "\n",
       "    .dataframe tbody tr th {\n",
       "        vertical-align: top;\n",
       "    }\n",
       "\n",
       "    .dataframe thead th {\n",
       "        text-align: right;\n",
       "    }\n",
       "</style>\n",
       "<table border=\"1\" class=\"dataframe\">\n",
       "  <thead>\n",
       "    <tr style=\"text-align: right;\">\n",
       "      <th></th>\n",
       "      <th>sequences</th>\n",
       "      <th>labels</th>\n",
       "    </tr>\n",
       "  </thead>\n",
       "  <tbody>\n",
       "    <tr>\n",
       "      <td>0</td>\n",
       "      <td>TTGTGTCCTACTTTTGTCCATTTGGAAAAATAATTGCATGACTACA...</td>\n",
       "      <td>-1</td>\n",
       "    </tr>\n",
       "    <tr>\n",
       "      <td>1</td>\n",
       "      <td>CTTTCCTTTATTTCTTCGTCAACTTAATATCCTTAGCAAAACAGGA...</td>\n",
       "      <td>-1</td>\n",
       "    </tr>\n",
       "    <tr>\n",
       "      <td>2</td>\n",
       "      <td>TACTTAAGAGGGGTAAGAAATATATAAACTAGTGCAACATTTTTCA...</td>\n",
       "      <td>-1</td>\n",
       "    </tr>\n",
       "    <tr>\n",
       "      <td>3</td>\n",
       "      <td>TAGGTTTCCAAGCAGCCCATTCCTGCCTGGCACCACAGGGATCCAT...</td>\n",
       "      <td>-1</td>\n",
       "    </tr>\n",
       "    <tr>\n",
       "      <td>4</td>\n",
       "      <td>GCATGAGCCACTGCGCCTGGCCTGGTTCATTGCTTCTTAGTGATGC...</td>\n",
       "      <td>-1</td>\n",
       "    </tr>\n",
       "  </tbody>\n",
       "</table>\n",
       "</div>"
      ],
      "text/plain": [
       "                                           sequences  labels\n",
       "0  TTGTGTCCTACTTTTGTCCATTTGGAAAAATAATTGCATGACTACA...      -1\n",
       "1  CTTTCCTTTATTTCTTCGTCAACTTAATATCCTTAGCAAAACAGGA...      -1\n",
       "2  TACTTAAGAGGGGTAAGAAATATATAAACTAGTGCAACATTTTTCA...      -1\n",
       "3  TAGGTTTCCAAGCAGCCCATTCCTGCCTGGCACCACAGGGATCCAT...      -1\n",
       "4  GCATGAGCCACTGCGCCTGGCCTGGTTCATTGCTTCTTAGTGATGC...      -1"
      ]
     },
     "execution_count": 54,
     "metadata": {},
     "output_type": "execute_result"
    }
   ],
   "source": [
    "df.head()"
   ]
  },
  {
   "cell_type": "code",
   "execution_count": 55,
   "metadata": {},
   "outputs": [],
   "source": [
    "def get_debug_model(splice_length):\n",
    "    '''model_id: debug'''\n",
    "    model = Sequential()\n",
    "    model.add(Conv1D(input_shape=(splice_length,1),filters=32, kernel_size=5, padding='same', activation='relu'))\n",
    "    model.add(Conv1D(filters=32, kernel_size=5, padding='same', activation='relu'))\n",
    "    model.add(MaxPooling1D(pool_size=5, strides=2))\n",
    "    model.add(Flatten())\n",
    "    model.add(Dense(64,activation='relu'))\n",
    "    model.add(Dense(1,activation='sigmoid'))\n",
    "    model.summary()\n",
    "    return model"
   ]
  },
  {
   "cell_type": "code",
   "execution_count": 90,
   "metadata": {},
   "outputs": [],
   "source": [
    "def encode_seq(seq):\n",
    "    char2num = {'A':0, 'C': 1, 'G': 2, 'T': 4}\n",
    "    return [char2num[c] for c in seq]\n",
    "\n",
    "def preprocess_sequences(df):\n",
    "    data = df.sequences.values\n",
    "    data = [encode_seq(d) for d in data]\n",
    "    data = np.array(data)\n",
    "    data = data.reshape((data.shape[0],data.shape[1],1))\n",
    "    labels = df.labels.values\n",
    "    labels[labels == -1] = 0\n",
    "    splice_length = len(data[0])\n",
    "    return data/4, np.int8(labels), splice_length"
   ]
  },
  {
   "cell_type": "code",
   "execution_count": 68,
   "metadata": {},
   "outputs": [],
   "source": [
    "train, test, y_train, y_test = train_test_split(data, labels, test_size=0.4, stratify=labels, random_state=42)"
   ]
  },
  {
   "cell_type": "code",
   "execution_count": 107,
   "metadata": {},
   "outputs": [
    {
     "data": {
      "text/plain": [
       "array([299117,    883])"
      ]
     },
     "execution_count": 107,
     "metadata": {},
     "output_type": "execute_result"
    }
   ],
   "source": [
    "np.unique(y_train,return_counts=True)[1]#/len(y_train)"
   ]
  },
  {
   "cell_type": "code",
   "execution_count": 104,
   "metadata": {},
   "outputs": [
    {
     "name": "stdout",
     "output_type": "stream",
     "text": [
      "[  1.         338.75084938]\n"
     ]
    }
   ],
   "source": [
    "weights = len(y_test)/np.unique(y_train,return_counts=True)[1]\n",
    "weights = weights/weights.min()\n",
    "print(weights)"
   ]
  },
  {
   "cell_type": "code",
   "execution_count": 108,
   "metadata": {},
   "outputs": [],
   "source": [
    "def downsample(data, labels, N_per_class, seed=42):\n",
    "    '''\n",
    "    Upsample minority classes up to the majority class.\n",
    "    Returned data is NOT shuffled.\n",
    "    '''\n",
    "    CLASSES, N_SAMPLES = np.unique(labels,return_counts=True)\n",
    "    data_downsampled = []\n",
    "    labels_downsampled = []\n",
    "    for c, n in zip(CLASSES, N_SAMPLES):\n",
    "        data_sub = data[labels==c]\n",
    "        data_sampled = resample(data_sub,\n",
    "                                replace=False,\n",
    "                                n_samples=N_per_class,\n",
    "                                random_state=seed)\n",
    "        data_downsampled.append(data_sampled)\n",
    "        labels_downsampled.append(np.ones(N_per_class,np.int8)*c)\n",
    "\n",
    "    data_downsampled = np.vstack(data_downsampled)\n",
    "    labels_downsampled = np.hstack(labels_downsampled)\n",
    "    return data_downsampled, labels_downsampled"
   ]
  },
  {
   "cell_type": "code",
   "execution_count": 105,
   "metadata": {},
   "outputs": [
    {
     "data": {
      "text/plain": [
       "array([  0.50147601, 169.87542469])"
      ]
     },
     "execution_count": 105,
     "metadata": {},
     "output_type": "execute_result"
    }
   ],
   "source": [
    "w = compute_class_weight('balanced', y=y_train, classes=np.unique(y_train))\n",
    "w"
   ]
  },
  {
   "cell_type": "code",
   "execution_count": 111,
   "metadata": {},
   "outputs": [],
   "source": [
    "train, y_train = downsample(train, y_train, 883)"
   ]
  },
  {
   "cell_type": "code",
   "execution_count": 125,
   "metadata": {},
   "outputs": [
    {
     "name": "stdout",
     "output_type": "stream",
     "text": [
      "Model: \"sequential_6\"\n",
      "_________________________________________________________________\n",
      "Layer (type)                 Output Shape              Param #   \n",
      "=================================================================\n",
      "conv1d_11 (Conv1D)           (None, 398, 32)           192       \n",
      "_________________________________________________________________\n",
      "conv1d_12 (Conv1D)           (None, 398, 32)           5152      \n",
      "_________________________________________________________________\n",
      "max_pooling1d_6 (MaxPooling1 (None, 197, 32)           0         \n",
      "_________________________________________________________________\n",
      "flatten_6 (Flatten)          (None, 6304)              0         \n",
      "_________________________________________________________________\n",
      "dense_11 (Dense)             (None, 64)                403520    \n",
      "_________________________________________________________________\n",
      "dense_12 (Dense)             (None, 1)                 65        \n",
      "=================================================================\n",
      "Total params: 408,929\n",
      "Trainable params: 408,929\n",
      "Non-trainable params: 0\n",
      "_________________________________________________________________\n"
     ]
    }
   ],
   "source": [
    "model = get_debug_model(splice_length)"
   ]
  },
  {
   "cell_type": "code",
   "execution_count": 126,
   "metadata": {},
   "outputs": [],
   "source": [
    "model.compile(optimizer='adam', loss='binary_crossentropy', metrics=['accuracy', tf.keras.metrics.AUC()])"
   ]
  },
  {
   "cell_type": "code",
   "execution_count": 127,
   "metadata": {},
   "outputs": [
    {
     "name": "stdout",
     "output_type": "stream",
     "text": [
      "Train on 1766 samples, validate on 200000 samples\n",
      "Epoch 1/10\n",
      "1766/1766 [==============================] - 113s 64ms/step - loss: 0.6990 - accuracy: 0.5113 - auc_4: 0.4740 - val_loss: 0.6612 - val_accuracy: 0.9971 - val_auc_4: 0.8739\n",
      "Epoch 2/10\n",
      "1766/1766 [==============================] - 101s 57ms/step - loss: 0.6444 - accuracy: 0.6274 - auc_4: 0.7988 - val_loss: 0.4632 - val_accuracy: 0.8313 - val_auc_4: 0.7993\n",
      "Epoch 3/10\n",
      "1766/1766 [==============================] - 98s 55ms/step - loss: 0.5042 - accuracy: 0.7571 - auc_4: 0.8051 - val_loss: 0.4258 - val_accuracy: 0.8147 - val_auc_4: 0.8109\n",
      "Epoch 4/10\n",
      "1766/1766 [==============================] - 99s 56ms/step - loss: 0.4541 - accuracy: 0.7916 - auc_4: 0.8187 - val_loss: 0.4045 - val_accuracy: 0.8388 - val_auc_4: 0.8265\n",
      "Epoch 5/10\n",
      "1766/1766 [==============================] - 99s 56ms/step - loss: 0.4309 - accuracy: 0.8029 - auc_4: 0.8338 - val_loss: 0.6421 - val_accuracy: 0.6784 - val_auc_4: 0.8303\n",
      "Epoch 6/10\n",
      "1766/1766 [==============================] - 105s 59ms/step - loss: 0.3937 - accuracy: 0.8324 - auc_4: 0.8286 - val_loss: 0.5072 - val_accuracy: 0.7682 - val_auc_4: 0.8325\n",
      "Epoch 7/10\n",
      "1766/1766 [==============================] - 99s 56ms/step - loss: 0.3488 - accuracy: 0.8607 - auc_4: 0.8362 - val_loss: 0.5239 - val_accuracy: 0.7593 - val_auc_4: 0.8398\n",
      "Epoch 8/10\n",
      "1766/1766 [==============================] - 96s 55ms/step - loss: 0.3104 - accuracy: 0.8766 - auc_4: 0.8430 - val_loss: 0.3798 - val_accuracy: 0.8381 - val_auc_4: 0.8484\n",
      "Epoch 9/10\n",
      "1766/1766 [==============================] - 101s 57ms/step - loss: 0.2798 - accuracy: 0.8958 - auc_4: 0.8532 - val_loss: 0.1845 - val_accuracy: 0.9318 - val_auc_4: 0.8577\n",
      "Epoch 10/10\n",
      "1766/1766 [==============================] - 101s 57ms/step - loss: 0.2436 - accuracy: 0.9185 - auc_4: 0.8622 - val_loss: 0.6037 - val_accuracy: 0.7331 - val_auc_4: 0.8633\n"
     ]
    },
    {
     "data": {
      "text/plain": [
       "<keras.callbacks.callbacks.History at 0x7f38d3c9ff50>"
      ]
     },
     "execution_count": 127,
     "metadata": {},
     "output_type": "execute_result"
    }
   ],
   "source": [
    "model.fit(train, y_train, epochs=10, batch_size=16, validation_data=(test,y_test))"
   ]
  },
  {
   "cell_type": "code",
   "execution_count": 128,
   "metadata": {},
   "outputs": [
    {
     "name": "stdout",
     "output_type": "stream",
     "text": [
      "200000/200000 [==============================] - 88s 439us/step\n"
     ]
    }
   ],
   "source": [
    "preds = model.predict_classes(test,verbose=1)"
   ]
  },
  {
   "cell_type": "code",
   "execution_count": 129,
   "metadata": {},
   "outputs": [
    {
     "name": "stdout",
     "output_type": "stream",
     "text": [
      "              precision    recall  f1-score   support\n",
      "\n",
      "           0       1.00      0.73      0.85    199412\n",
      "           1       0.01      0.88      0.02       588\n",
      "\n",
      "    accuracy                           0.73    200000\n",
      "   macro avg       0.50      0.81      0.43    200000\n",
      "weighted avg       1.00      0.73      0.84    200000\n",
      "\n"
     ]
    }
   ],
   "source": [
    "print(classification_report(y_test,preds))"
   ]
  },
  {
   "cell_type": "code",
   "execution_count": 130,
   "metadata": {},
   "outputs": [
    {
     "name": "stdout",
     "output_type": "stream",
     "text": [
      "[[0.73269914 0.26730086]\n",
      " [0.11904762 0.88095238]]\n"
     ]
    }
   ],
   "source": [
    "print(confusion_matrix(y_test, preds,normalize='true'))"
   ]
  },
  {
   "cell_type": "code",
   "execution_count": null,
   "metadata": {},
   "outputs": [],
   "source": []
  }
 ],
 "metadata": {
  "kernelspec": {
   "display_name": "ml4h-p1-env",
   "language": "python",
   "name": "ml4h-p1-env"
  },
  "language_info": {
   "codemirror_mode": {
    "name": "ipython",
    "version": 3
   },
   "file_extension": ".py",
   "mimetype": "text/x-python",
   "name": "python",
   "nbconvert_exporter": "python",
   "pygments_lexer": "ipython3",
   "version": "3.7.6"
  }
 },
 "nbformat": 4,
 "nbformat_minor": 4
}
