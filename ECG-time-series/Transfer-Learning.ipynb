{
 "cells": [
  {
   "cell_type": "code",
   "execution_count": 96,
   "metadata": {},
   "outputs": [],
   "source": [
    "import numpy as np\n",
    "import matplotlib.pyplot as plt\n",
    "from data.make_dataset import load_mitbih, load_ptbdb\n",
    "from sklearn.manifold import TSNE\n",
    "from sklearn.decomposition import PCA\n",
    "from keras.models import Model, load_model\n",
    "from keras.layers import Dense\n",
    "from sklearn.metrics import classification_report, confusion_matrix\n",
    "import random"
   ]
  },
  {
   "cell_type": "code",
   "execution_count": 94,
   "metadata": {},
   "outputs": [],
   "source": [
    "_, test, _, y_test = load_mitbih()\n",
    "train,ptbdb_test, y_train, ptbdb_y_test= load_ptbdb()"
   ]
  },
  {
   "cell_type": "code",
   "execution_count": 9,
   "metadata": {},
   "outputs": [],
   "source": [
    "model = load_model('./cnn-lstm-mitbih/cnn-lstm-mitbih.h5')\n",
    "model.load_weights('./cnn-lstm-mitbih/cnn-lstm-mitbih-weights.h5')"
   ]
  },
  {
   "cell_type": "code",
   "execution_count": 11,
   "metadata": {},
   "outputs": [
    {
     "data": {
      "text/plain": [
       "[<keras.layers.convolutional.Conv1D at 0x7fc5c665ec90>,\n",
       " <keras.layers.convolutional.Conv1D at 0x7fc5c65bf290>,\n",
       " <keras.layers.pooling.MaxPooling1D at 0x7fc5bc40d450>,\n",
       " <keras.layers.convolutional.Conv1D at 0x7fc5bc411950>,\n",
       " <keras.layers.convolutional.Conv1D at 0x7fc5bc418c90>,\n",
       " <keras.layers.pooling.MaxPooling1D at 0x7fc5bc423f10>,\n",
       " <keras.layers.recurrent.LSTM at 0x7fc5bc42abd0>,\n",
       " <keras.layers.core.Flatten at 0x7fc5bc423e10>,\n",
       " <keras.layers.core.Dense at 0x7fc5bc3a2a50>,\n",
       " <keras.layers.core.Dense at 0x7fc5bc3d4810>]"
      ]
     },
     "execution_count": 11,
     "metadata": {},
     "output_type": "execute_result"
    }
   ],
   "source": [
    "model.layers"
   ]
  },
  {
   "cell_type": "code",
   "execution_count": 13,
   "metadata": {},
   "outputs": [
    {
     "data": {
      "text/plain": [
       "10"
      ]
     },
     "execution_count": 13,
     "metadata": {},
     "output_type": "execute_result"
    }
   ],
   "source": [
    "total_layers = len(model.layers)\n",
    "total_layers"
   ]
  },
  {
   "cell_type": "code",
   "execution_count": 75,
   "metadata": {},
   "outputs": [],
   "source": [
    "feature_layer = total_layers - 3"
   ]
  },
  {
   "cell_type": "code",
   "execution_count": 81,
   "metadata": {},
   "outputs": [],
   "source": [
    "feature_layer_model = Model(\n",
    "    inputs=model.inputs,\n",
    "    outputs=Dense(2,activation='softmax')(Dense(128,activation='relu')(model.get_layer(index=feature_layer).output)),\n",
    "    )"
   ]
  },
  {
   "cell_type": "code",
   "execution_count": 82,
   "metadata": {},
   "outputs": [
    {
     "name": "stdout",
     "output_type": "stream",
     "text": [
      "<keras.layers.convolutional.Conv1D object at 0x7fc5c665ec90>\n",
      "<keras.layers.convolutional.Conv1D object at 0x7fc5c65bf290>\n",
      "<keras.layers.pooling.MaxPooling1D object at 0x7fc5bc40d450>\n",
      "<keras.layers.convolutional.Conv1D object at 0x7fc5bc411950>\n",
      "<keras.layers.convolutional.Conv1D object at 0x7fc5bc418c90>\n",
      "<keras.layers.pooling.MaxPooling1D object at 0x7fc5bc423f10>\n",
      "<keras.layers.recurrent.LSTM object at 0x7fc5bc42abd0>\n"
     ]
    }
   ],
   "source": [
    "for layer in model.layers[:-3]:\n",
    "    print(layer)\n",
    "    layer.trainable = False"
   ]
  },
  {
   "cell_type": "code",
   "execution_count": 92,
   "metadata": {},
   "outputs": [],
   "source": [
    "feature_layer_model.compile(optimizer='adam', loss='sparse_categorical_crossentropy',metrics=['sparse_categorical_accuracy'])"
   ]
  },
  {
   "cell_type": "code",
   "execution_count": 93,
   "metadata": {},
   "outputs": [
    {
     "name": "stdout",
     "output_type": "stream",
     "text": [
      "Train on 9312 samples, validate on 2329 samples\n",
      "Epoch 1/3\n",
      "9312/9312 [==============================] - 22s 2ms/step - loss: 0.0627 - sparse_categorical_accuracy: 0.9762 - val_loss: 0.0724 - val_sparse_categorical_accuracy: 0.9772\n",
      "Epoch 2/3\n",
      "9312/9312 [==============================] - 22s 2ms/step - loss: 0.0305 - sparse_categorical_accuracy: 0.9887 - val_loss: 0.0434 - val_sparse_categorical_accuracy: 0.9850\n",
      "Epoch 3/3\n",
      "9312/9312 [==============================] - 22s 2ms/step - loss: 0.0136 - sparse_categorical_accuracy: 0.9960 - val_loss: 0.0282 - val_sparse_categorical_accuracy: 0.9923\n"
     ]
    },
    {
     "data": {
      "text/plain": [
       "<keras.callbacks.callbacks.History at 0x7fc563d1cd50>"
      ]
     },
     "execution_count": 93,
     "metadata": {},
     "output_type": "execute_result"
    }
   ],
   "source": [
    "feature_layer_model.fit(train,y_train,validation_split=0.2,epochs=3)"
   ]
  },
  {
   "cell_type": "code",
   "execution_count": 95,
   "metadata": {},
   "outputs": [],
   "source": [
    "ptbdb_preds = feature_layer_model.predict(ptbdb_test)"
   ]
  },
  {
   "cell_type": "code",
   "execution_count": 98,
   "metadata": {},
   "outputs": [
    {
     "name": "stdout",
     "output_type": "stream",
     "text": [
      "              precision    recall  f1-score   support\n",
      "\n",
      "           0       0.99      0.98      0.98       809\n",
      "           1       0.99      1.00      0.99      2102\n",
      "\n",
      "    accuracy                           0.99      2911\n",
      "   macro avg       0.99      0.99      0.99      2911\n",
      "weighted avg       0.99      0.99      0.99      2911\n",
      "\n",
      "[[ 790   19]\n",
      " [  10 2092]]\n"
     ]
    }
   ],
   "source": [
    "print(classification_report(ptbdb_y_test, ptbdb_preds.argmax(1)))\n",
    "print(confusion_matrix(ptbdb_y_test,ptbdb_preds.argmax(1)))"
   ]
  },
  {
   "cell_type": "code",
   "execution_count": 78,
   "metadata": {},
   "outputs": [
    {
     "data": {
      "text/plain": [
       "(10, 5632)"
      ]
     },
     "execution_count": 78,
     "metadata": {},
     "output_type": "execute_result"
    }
   ],
   "source": [
    "fl_output.shape"
   ]
  },
  {
   "cell_type": "code",
   "execution_count": 67,
   "metadata": {},
   "outputs": [
    {
     "data": {
      "text/plain": [
       "(array([0, 1, 2, 3, 4], dtype=int8), array([4112,  134,  328,   36,  390]))"
      ]
     },
     "execution_count": 67,
     "metadata": {},
     "output_type": "execute_result"
    }
   ],
   "source": [
    "indices = np.arange(y_test.shape[0])\n",
    "np.random.shuffle(indices)\n",
    "output_shuffled, y_shuffled = fl_output[indices], y_test[indices]\n",
    "np.unique(y_shuffled[:5000],return_counts=True)"
   ]
  },
  {
   "cell_type": "code",
   "execution_count": 71,
   "metadata": {},
   "outputs": [],
   "source": [
    "X = PCA(n_components=50).fit_transform(output_shuffled[:5000,:])\n",
    "X_embedded = TSNE(n_components=2).fit_transform(X)"
   ]
  },
  {
   "cell_type": "code",
   "execution_count": 73,
   "metadata": {},
   "outputs": [
    {
     "data": {
      "text/plain": [
       "<matplotlib.collections.PathCollection at 0x7fc56cd38450>"
      ]
     },
     "execution_count": 73,
     "metadata": {},
     "output_type": "execute_result"
    },
    {
     "data": {
      "image/png": "[encoded data removed]",
      "text/plain": [
       "<Figure size 432x288 with 1 Axes>"
      ]
     },
     "metadata": {
      "needs_background": "light"
     },
     "output_type": "display_data"
    }
   ],
   "source": [
    "plt.scatter(X_embedded[:,0],X_embedded[:,1], c = y_shuffled[:5000])"
   ]
  },
  {
   "cell_type": "code",
   "execution_count": null,
   "metadata": {},
   "outputs": [],
   "source": []
  }
 ],
 "metadata": {
  "kernelspec": {
   "display_name": "ml4h-p1-env",
   "language": "python",
   "name": "ml4h-p1-env"
  },
  "language_info": {
   "codemirror_mode": {
    "name": "ipython",
    "version": 3
   },
   "file_extension": ".py",
   "mimetype": "text/x-python",
   "name": "python",
   "nbconvert_exporter": "python",
   "pygments_lexer": "ipython3",
   "version": "3.7.6"
  }
 },
 "nbformat": 4,
 "nbformat_minor": 4
}
